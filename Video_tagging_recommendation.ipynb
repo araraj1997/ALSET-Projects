{
  "nbformat": 4,
  "nbformat_minor": 0,
  "metadata": {
    "colab": {
      "name": "Video tagging recommendation.ipynb",
      "version": "0.3.2",
      "provenance": [],
      "collapsed_sections": [],
      "include_colab_link": true
    },
    "kernelspec": {
      "name": "python3",
      "display_name": "Python 3"
    }
  },
  "cells": [
    {
      "cell_type": "markdown",
      "metadata": {
        "id": "view-in-github",
        "colab_type": "text"
      },
      "source": [
        "[View in Colaboratory](https://colab.research.google.com/github/araraj1997/Recommendation-Systems/blob/master/Video_tagging_recommendation.ipynb)"
      ]
    },
    {
      "metadata": {
        "id": "mtAn9KSB1ITW",
        "colab_type": "code",
        "colab": {
          "base_uri": "https://localhost:8080/",
          "height": 511
        },
        "outputId": "03c2e215-e46e-425c-9f04-1cde3dfd32fa"
      },
      "cell_type": "code",
      "source": [
        "import pandas as pd\n",
        "\n",
        "data = pd.read_json('https://raw.githubusercontent.com/araraj1997/Tutorial-Data/master/vidtopics%20(1).json')\n",
        "\n",
        "null_checker = data.isnull()\n",
        "videos_watched = {}\n",
        "   \n",
        "#videos watched  \n",
        "for index,rows in null_checker.iterrows():\n",
        "    for column in null_checker:\n",
        "      if not null_checker[column][index]:\n",
        "        if index not in videos_watched:\n",
        "          videos_watched[index] = {column:True}\n",
        "        else:\n",
        "          if column not in videos_watched[index]:\n",
        "            videos_watched[index].update({column:True})\n",
        "            \n",
        "        \n",
        "print(videos_watched)\n",
        "data"
      ],
      "execution_count": 1,
      "outputs": [
        {
          "output_type": "stream",
          "text": [
            "{'17d6d1LuweS3vlOKnMyonkV03D03': {'-LFH5af1gB_VUOhOV25C': True, '-LFH71vDNMNCgXB2O4RT': True, '-LFLgPST2DOQkhEL8zl6': True, '-LGZ1mArBTe7PTT5r9Os': True, '-LGZ28OSwIsABpGQcfhP': True, '-LGZ2er1NHk7gq4khVWl': True}, 'AQemrWVOgGXggX3ThOFUQXyAKnQ2': {'-LFH5af1gB_VUOhOV25C': True, '-LFH6pRkce1qEz7flOg3': True}, 'I9nQZbQ5xMdklnudDqGfh1ucOZz2': {'-L9JSkGVgGDRBckUlSjL': True}, 'OVkIA2ZkVbVCtzU9x1dHEVnvK8x1': {'-LFH5af1gB_VUOhOV25C': True, '-LFH6pRkce1qEz7flOg3': True, '-LFH71vDNMNCgXB2O4RT': True, '-LFLgHKNeCgNEw0qzSkl': True, '-LFLgPST2DOQkhEL8zl6': True}, 'PBTm2mzeHpZ7E3VkAmZrrTjPmJy2': {'-LFH5af1gB_VUOhOV25C': True, '-LFH6pRkce1qEz7flOg3': True, '-LFH71vDNMNCgXB2O4RT': True, '-LFLgHKNeCgNEw0qzSkl': True}, 'TOT2Pe5KKIe8QufgPxM2S22VqHv1': {'-LFH5af1gB_VUOhOV25C': True, '-LFH6pRkce1qEz7flOg3': True, '-LFH71vDNMNCgXB2O4RT': True, '-LFLgHKNeCgNEw0qzSkl': True, '-LFLgPST2DOQkhEL8zl6': True, '-LGZ1W3At4LlWZNJNGqJ': True, '-LGZ1yNVLpQYrvnKTRXL': True, '-LGZ2GDFwYKYDKm0nssk': True}, 'YWvoiBjXH9fNwayEJzuxRCyRv593': {'-LFH5af1gB_VUOhOV25C': True, '-LFH6pRkce1qEz7flOg3': True, '-LFLgHKNeCgNEw0qzSkl': True, '-LFLgPST2DOQkhEL8zl6': True}, 'jpG3H98JWMTlMd82eFENoc4YdEB2': {'-LFH5af1gB_VUOhOV25C': True}}\n"
          ],
          "name": "stdout"
        },
        {
          "output_type": "execute_result",
          "data": {
            "text/html": [
              "<div>\n",
              "<style scoped>\n",
              "    .dataframe tbody tr th:only-of-type {\n",
              "        vertical-align: middle;\n",
              "    }\n",
              "\n",
              "    .dataframe tbody tr th {\n",
              "        vertical-align: top;\n",
              "    }\n",
              "\n",
              "    .dataframe thead th {\n",
              "        text-align: right;\n",
              "    }\n",
              "</style>\n",
              "<table border=\"1\" class=\"dataframe\">\n",
              "  <thead>\n",
              "    <tr style=\"text-align: right;\">\n",
              "      <th></th>\n",
              "      <th>-L9JSkGVgGDRBckUlSjL</th>\n",
              "      <th>-LFH5af1gB_VUOhOV25C</th>\n",
              "      <th>-LFH6pRkce1qEz7flOg3</th>\n",
              "      <th>-LFH71vDNMNCgXB2O4RT</th>\n",
              "      <th>-LFLgHKNeCgNEw0qzSkl</th>\n",
              "      <th>-LFLgPST2DOQkhEL8zl6</th>\n",
              "      <th>-LGZ1W3At4LlWZNJNGqJ</th>\n",
              "      <th>-LGZ1mArBTe7PTT5r9Os</th>\n",
              "      <th>-LGZ1yNVLpQYrvnKTRXL</th>\n",
              "      <th>-LGZ28OSwIsABpGQcfhP</th>\n",
              "      <th>-LGZ2GDFwYKYDKm0nssk</th>\n",
              "      <th>-LGZ2er1NHk7gq4khVWl</th>\n",
              "    </tr>\n",
              "  </thead>\n",
              "  <tbody>\n",
              "    <tr>\n",
              "      <th>17d6d1LuweS3vlOKnMyonkV03D03</th>\n",
              "      <td>NaN</td>\n",
              "      <td>intro ML experience</td>\n",
              "      <td>NaN</td>\n",
              "      <td>function definition</td>\n",
              "      <td>NaN</td>\n",
              "      <td>linear regression gradient descent</td>\n",
              "      <td>NaN</td>\n",
              "      <td>training feature good how many dog</td>\n",
              "      <td>NaN</td>\n",
              "      <td>writing classifier own</td>\n",
              "      <td>NaN</td>\n",
              "      <td>image classifier flower tensorflow</td>\n",
              "    </tr>\n",
              "    <tr>\n",
              "      <th>AQemrWVOgGXggX3ThOFUQXyAKnQ2</th>\n",
              "      <td>NaN</td>\n",
              "      <td>grid of x-axis vs y-axis linear regression err...</td>\n",
              "      <td>jupyter notebook print variables command line ...</td>\n",
              "      <td>NaN</td>\n",
              "      <td>NaN</td>\n",
              "      <td>NaN</td>\n",
              "      <td>NaN</td>\n",
              "      <td>NaN</td>\n",
              "      <td>NaN</td>\n",
              "      <td>NaN</td>\n",
              "      <td>NaN</td>\n",
              "      <td>NaN</td>\n",
              "    </tr>\n",
              "    <tr>\n",
              "      <th>I9nQZbQ5xMdklnudDqGfh1ucOZz2</th>\n",
              "      <td>this is not apple.</td>\n",
              "      <td>NaN</td>\n",
              "      <td>NaN</td>\n",
              "      <td>NaN</td>\n",
              "      <td>NaN</td>\n",
              "      <td>NaN</td>\n",
              "      <td>NaN</td>\n",
              "      <td>NaN</td>\n",
              "      <td>NaN</td>\n",
              "      <td>NaN</td>\n",
              "      <td>NaN</td>\n",
              "      <td>NaN</td>\n",
              "    </tr>\n",
              "    <tr>\n",
              "      <th>OVkIA2ZkVbVCtzU9x1dHEVnvK8x1</th>\n",
              "      <td>NaN</td>\n",
              "      <td>App recommendation Acceptance Statistics AI In...</td>\n",
              "      <td>Great Singapore Sale Jupyter Kernals Hello Wor...</td>\n",
              "      <td>Functions Variables Print Basics Next time</td>\n",
              "      <td>lists! lists of anything lists of numbers team...</td>\n",
              "      <td>Rainbow trains foundations of neural net machi...</td>\n",
              "      <td>NaN</td>\n",
              "      <td>NaN</td>\n",
              "      <td>NaN</td>\n",
              "      <td>NaN</td>\n",
              "      <td>NaN</td>\n",
              "      <td>NaN</td>\n",
              "    </tr>\n",
              "    <tr>\n",
              "      <th>PBTm2mzeHpZ7E3VkAmZrrTjPmJy2</th>\n",
              "      <td>NaN</td>\n",
              "      <td>house prices gradient descent neural network l...</td>\n",
              "      <td>anaconda install</td>\n",
              "      <td>parameter how to define function</td>\n",
              "      <td>list  append</td>\n",
              "      <td>NaN</td>\n",
              "      <td>NaN</td>\n",
              "      <td>NaN</td>\n",
              "      <td>NaN</td>\n",
              "      <td>NaN</td>\n",
              "      <td>NaN</td>\n",
              "      <td>NaN</td>\n",
              "    </tr>\n",
              "    <tr>\n",
              "      <th>TOT2Pe5KKIe8QufgPxM2S22VqHv1</th>\n",
              "      <td>NaN</td>\n",
              "      <td>ML linear regression spam recommendation</td>\n",
              "      <td>python jupyter notebook variable</td>\n",
              "      <td>functions definition parameter</td>\n",
              "      <td>list access append modify</td>\n",
              "      <td>linear regression gradient descent</td>\n",
              "      <td>hello world classifier supervised anaconda</td>\n",
              "      <td>NaN</td>\n",
              "      <td>pipeline spam sklearn  classifier</td>\n",
              "      <td>NaN</td>\n",
              "      <td>feature classifier distance neighbor</td>\n",
              "      <td>NaN</td>\n",
              "    </tr>\n",
              "    <tr>\n",
              "      <th>YWvoiBjXH9fNwayEJzuxRCyRv593</th>\n",
              "      <td>NaN</td>\n",
              "      <td>recommending pokemon kernel trick</td>\n",
              "      <td>variables cli notebook</td>\n",
              "      <td>NaN</td>\n",
              "      <td>append list add to list</td>\n",
              "      <td>regression ML gradient descent</td>\n",
              "      <td>NaN</td>\n",
              "      <td>NaN</td>\n",
              "      <td>NaN</td>\n",
              "      <td>NaN</td>\n",
              "      <td>NaN</td>\n",
              "      <td>NaN</td>\n",
              "    </tr>\n",
              "    <tr>\n",
              "      <th>jpG3H98JWMTlMd82eFENoc4YdEB2</th>\n",
              "      <td>NaN</td>\n",
              "      <td>machine learning</td>\n",
              "      <td>NaN</td>\n",
              "      <td>NaN</td>\n",
              "      <td>NaN</td>\n",
              "      <td>NaN</td>\n",
              "      <td>NaN</td>\n",
              "      <td>NaN</td>\n",
              "      <td>NaN</td>\n",
              "      <td>NaN</td>\n",
              "      <td>NaN</td>\n",
              "      <td>NaN</td>\n",
              "    </tr>\n",
              "  </tbody>\n",
              "</table>\n",
              "</div>"
            ],
            "text/plain": [
              "                             -L9JSkGVgGDRBckUlSjL  \\\n",
              "17d6d1LuweS3vlOKnMyonkV03D03                  NaN   \n",
              "AQemrWVOgGXggX3ThOFUQXyAKnQ2                  NaN   \n",
              "I9nQZbQ5xMdklnudDqGfh1ucOZz2   this is not apple.   \n",
              "OVkIA2ZkVbVCtzU9x1dHEVnvK8x1                  NaN   \n",
              "PBTm2mzeHpZ7E3VkAmZrrTjPmJy2                  NaN   \n",
              "TOT2Pe5KKIe8QufgPxM2S22VqHv1                  NaN   \n",
              "YWvoiBjXH9fNwayEJzuxRCyRv593                  NaN   \n",
              "jpG3H98JWMTlMd82eFENoc4YdEB2                  NaN   \n",
              "\n",
              "                                                           -LFH5af1gB_VUOhOV25C  \\\n",
              "17d6d1LuweS3vlOKnMyonkV03D03                                intro ML experience   \n",
              "AQemrWVOgGXggX3ThOFUQXyAKnQ2  grid of x-axis vs y-axis linear regression err...   \n",
              "I9nQZbQ5xMdklnudDqGfh1ucOZz2                                                NaN   \n",
              "OVkIA2ZkVbVCtzU9x1dHEVnvK8x1  App recommendation Acceptance Statistics AI In...   \n",
              "PBTm2mzeHpZ7E3VkAmZrrTjPmJy2  house prices gradient descent neural network l...   \n",
              "TOT2Pe5KKIe8QufgPxM2S22VqHv1          ML linear regression spam recommendation    \n",
              "YWvoiBjXH9fNwayEJzuxRCyRv593                 recommending pokemon kernel trick    \n",
              "jpG3H98JWMTlMd82eFENoc4YdEB2                                  machine learning    \n",
              "\n",
              "                                                           -LFH6pRkce1qEz7flOg3  \\\n",
              "17d6d1LuweS3vlOKnMyonkV03D03                                                NaN   \n",
              "AQemrWVOgGXggX3ThOFUQXyAKnQ2  jupyter notebook print variables command line ...   \n",
              "I9nQZbQ5xMdklnudDqGfh1ucOZz2                                                NaN   \n",
              "OVkIA2ZkVbVCtzU9x1dHEVnvK8x1  Great Singapore Sale Jupyter Kernals Hello Wor...   \n",
              "PBTm2mzeHpZ7E3VkAmZrrTjPmJy2                                   anaconda install   \n",
              "TOT2Pe5KKIe8QufgPxM2S22VqHv1                   python jupyter notebook variable   \n",
              "YWvoiBjXH9fNwayEJzuxRCyRv593                             variables cli notebook   \n",
              "jpG3H98JWMTlMd82eFENoc4YdEB2                                                NaN   \n",
              "\n",
              "                                                    -LFH71vDNMNCgXB2O4RT  \\\n",
              "17d6d1LuweS3vlOKnMyonkV03D03                        function definition    \n",
              "AQemrWVOgGXggX3ThOFUQXyAKnQ2                                         NaN   \n",
              "I9nQZbQ5xMdklnudDqGfh1ucOZz2                                         NaN   \n",
              "OVkIA2ZkVbVCtzU9x1dHEVnvK8x1  Functions Variables Print Basics Next time   \n",
              "PBTm2mzeHpZ7E3VkAmZrrTjPmJy2            parameter how to define function   \n",
              "TOT2Pe5KKIe8QufgPxM2S22VqHv1              functions definition parameter   \n",
              "YWvoiBjXH9fNwayEJzuxRCyRv593                                         NaN   \n",
              "jpG3H98JWMTlMd82eFENoc4YdEB2                                         NaN   \n",
              "\n",
              "                                                           -LFLgHKNeCgNEw0qzSkl  \\\n",
              "17d6d1LuweS3vlOKnMyonkV03D03                                                NaN   \n",
              "AQemrWVOgGXggX3ThOFUQXyAKnQ2                                                NaN   \n",
              "I9nQZbQ5xMdklnudDqGfh1ucOZz2                                                NaN   \n",
              "OVkIA2ZkVbVCtzU9x1dHEVnvK8x1  lists! lists of anything lists of numbers team...   \n",
              "PBTm2mzeHpZ7E3VkAmZrrTjPmJy2                                       list  append   \n",
              "TOT2Pe5KKIe8QufgPxM2S22VqHv1                          list access append modify   \n",
              "YWvoiBjXH9fNwayEJzuxRCyRv593                            append list add to list   \n",
              "jpG3H98JWMTlMd82eFENoc4YdEB2                                                NaN   \n",
              "\n",
              "                                                           -LFLgPST2DOQkhEL8zl6  \\\n",
              "17d6d1LuweS3vlOKnMyonkV03D03                 linear regression gradient descent   \n",
              "AQemrWVOgGXggX3ThOFUQXyAKnQ2                                                NaN   \n",
              "I9nQZbQ5xMdklnudDqGfh1ucOZz2                                                NaN   \n",
              "OVkIA2ZkVbVCtzU9x1dHEVnvK8x1  Rainbow trains foundations of neural net machi...   \n",
              "PBTm2mzeHpZ7E3VkAmZrrTjPmJy2                                                NaN   \n",
              "TOT2Pe5KKIe8QufgPxM2S22VqHv1                 linear regression gradient descent   \n",
              "YWvoiBjXH9fNwayEJzuxRCyRv593                     regression ML gradient descent   \n",
              "jpG3H98JWMTlMd82eFENoc4YdEB2                                                NaN   \n",
              "\n",
              "                                                    -LGZ1W3At4LlWZNJNGqJ  \\\n",
              "17d6d1LuweS3vlOKnMyonkV03D03                                         NaN   \n",
              "AQemrWVOgGXggX3ThOFUQXyAKnQ2                                         NaN   \n",
              "I9nQZbQ5xMdklnudDqGfh1ucOZz2                                         NaN   \n",
              "OVkIA2ZkVbVCtzU9x1dHEVnvK8x1                                         NaN   \n",
              "PBTm2mzeHpZ7E3VkAmZrrTjPmJy2                                         NaN   \n",
              "TOT2Pe5KKIe8QufgPxM2S22VqHv1  hello world classifier supervised anaconda   \n",
              "YWvoiBjXH9fNwayEJzuxRCyRv593                                         NaN   \n",
              "jpG3H98JWMTlMd82eFENoc4YdEB2                                         NaN   \n",
              "\n",
              "                                            -LGZ1mArBTe7PTT5r9Os  \\\n",
              "17d6d1LuweS3vlOKnMyonkV03D03  training feature good how many dog   \n",
              "AQemrWVOgGXggX3ThOFUQXyAKnQ2                                 NaN   \n",
              "I9nQZbQ5xMdklnudDqGfh1ucOZz2                                 NaN   \n",
              "OVkIA2ZkVbVCtzU9x1dHEVnvK8x1                                 NaN   \n",
              "PBTm2mzeHpZ7E3VkAmZrrTjPmJy2                                 NaN   \n",
              "TOT2Pe5KKIe8QufgPxM2S22VqHv1                                 NaN   \n",
              "YWvoiBjXH9fNwayEJzuxRCyRv593                                 NaN   \n",
              "jpG3H98JWMTlMd82eFENoc4YdEB2                                 NaN   \n",
              "\n",
              "                                           -LGZ1yNVLpQYrvnKTRXL  \\\n",
              "17d6d1LuweS3vlOKnMyonkV03D03                                NaN   \n",
              "AQemrWVOgGXggX3ThOFUQXyAKnQ2                                NaN   \n",
              "I9nQZbQ5xMdklnudDqGfh1ucOZz2                                NaN   \n",
              "OVkIA2ZkVbVCtzU9x1dHEVnvK8x1                                NaN   \n",
              "PBTm2mzeHpZ7E3VkAmZrrTjPmJy2                                NaN   \n",
              "TOT2Pe5KKIe8QufgPxM2S22VqHv1  pipeline spam sklearn  classifier   \n",
              "YWvoiBjXH9fNwayEJzuxRCyRv593                                NaN   \n",
              "jpG3H98JWMTlMd82eFENoc4YdEB2                                NaN   \n",
              "\n",
              "                                -LGZ28OSwIsABpGQcfhP  \\\n",
              "17d6d1LuweS3vlOKnMyonkV03D03  writing classifier own   \n",
              "AQemrWVOgGXggX3ThOFUQXyAKnQ2                     NaN   \n",
              "I9nQZbQ5xMdklnudDqGfh1ucOZz2                     NaN   \n",
              "OVkIA2ZkVbVCtzU9x1dHEVnvK8x1                     NaN   \n",
              "PBTm2mzeHpZ7E3VkAmZrrTjPmJy2                     NaN   \n",
              "TOT2Pe5KKIe8QufgPxM2S22VqHv1                     NaN   \n",
              "YWvoiBjXH9fNwayEJzuxRCyRv593                     NaN   \n",
              "jpG3H98JWMTlMd82eFENoc4YdEB2                     NaN   \n",
              "\n",
              "                                              -LGZ2GDFwYKYDKm0nssk  \\\n",
              "17d6d1LuweS3vlOKnMyonkV03D03                                   NaN   \n",
              "AQemrWVOgGXggX3ThOFUQXyAKnQ2                                   NaN   \n",
              "I9nQZbQ5xMdklnudDqGfh1ucOZz2                                   NaN   \n",
              "OVkIA2ZkVbVCtzU9x1dHEVnvK8x1                                   NaN   \n",
              "PBTm2mzeHpZ7E3VkAmZrrTjPmJy2                                   NaN   \n",
              "TOT2Pe5KKIe8QufgPxM2S22VqHv1  feature classifier distance neighbor   \n",
              "YWvoiBjXH9fNwayEJzuxRCyRv593                                   NaN   \n",
              "jpG3H98JWMTlMd82eFENoc4YdEB2                                   NaN   \n",
              "\n",
              "                                            -LGZ2er1NHk7gq4khVWl  \n",
              "17d6d1LuweS3vlOKnMyonkV03D03  image classifier flower tensorflow  \n",
              "AQemrWVOgGXggX3ThOFUQXyAKnQ2                                 NaN  \n",
              "I9nQZbQ5xMdklnudDqGfh1ucOZz2                                 NaN  \n",
              "OVkIA2ZkVbVCtzU9x1dHEVnvK8x1                                 NaN  \n",
              "PBTm2mzeHpZ7E3VkAmZrrTjPmJy2                                 NaN  \n",
              "TOT2Pe5KKIe8QufgPxM2S22VqHv1                                 NaN  \n",
              "YWvoiBjXH9fNwayEJzuxRCyRv593                                 NaN  \n",
              "jpG3H98JWMTlMd82eFENoc4YdEB2                                 NaN  "
            ]
          },
          "metadata": {
            "tags": []
          },
          "execution_count": 1
        }
      ]
    },
    {
      "metadata": {
        "id": "NW9QLKl92YCA",
        "colab_type": "code",
        "colab": {
          "base_uri": "https://localhost:8080/",
          "height": 416
        },
        "outputId": "0e2c8574-7912-43b3-cafb-b8689f5f71a9"
      },
      "cell_type": "code",
      "source": [
        "\n",
        "data = data.fillna(' ')\n",
        "AllTagsProblem = data.apply(lambda x: ' '.join(x), axis=0)\n",
        "data['AllTagsuser'] = data.apply(lambda x: ' '.join(x), axis=1)\n",
        "\n",
        "\n",
        "\n",
        "data = data.reset_index(col_fill='VideoKey')\n",
        "print(data['AllTagsuser'])\n",
        "print('')\n",
        "print(AllTagsProblem)\n"
      ],
      "execution_count": 2,
      "outputs": [
        {
          "output_type": "stream",
          "text": [
            "0      intro ML experience   function definition   ...\n",
            "1      grid of x-axis vs y-axis linear regression e...\n",
            "2             this is not apple.                      \n",
            "3      App recommendation Acceptance Statistics AI ...\n",
            "4      house prices gradient descent neural network...\n",
            "5      ML linear regression spam recommendation  py...\n",
            "6      recommending pokemon kernel trick  variables...\n",
            "7                machine learning                     \n",
            "Name: AllTagsuser, dtype: object\n",
            "\n",
            "-L9JSkGVgGDRBckUlSjL                         this is not apple.          \n",
            "-LFH5af1gB_VUOhOV25C    intro ML experience grid of x-axis vs y-axis l...\n",
            "-LFH6pRkce1qEz7flOg3      jupyter notebook print variables command lin...\n",
            "-LFH71vDNMNCgXB2O4RT    function definition      Functions Variables P...\n",
            "-LFLgHKNeCgNEw0qzSkl          lists! lists of anything lists of number...\n",
            "-LFLgPST2DOQkhEL8zl6    linear regression gradient descent     Rainbow...\n",
            "-LGZ1W3At4LlWZNJNGqJ              hello world classifier supervised an...\n",
            "-LGZ1mArBTe7PTT5r9Os     training feature good how many dog              \n",
            "-LGZ1yNVLpQYrvnKTRXL                pipeline spam sklearn  classifier    \n",
            "-LGZ28OSwIsABpGQcfhP                 writing classifier own              \n",
            "-LGZ2GDFwYKYDKm0nssk              feature classifier distance neighbor...\n",
            "-LGZ2er1NHk7gq4khVWl     image classifier flower tensorflow              \n",
            "dtype: object\n"
          ],
          "name": "stdout"
        }
      ]
    },
    {
      "metadata": {
        "id": "hILqfOmi5DwZ",
        "colab_type": "code",
        "colab": {}
      },
      "cell_type": "code",
      "source": [
        "from sklearn.feature_extraction.text import CountVectorizer\n",
        "\n",
        "#to get count for each word\n",
        "count_vector = CountVectorizer() \n",
        "#set the variable\n",
        "train = count_vector.fit_transform(AllTagsProblem)\n",
        "test = count_vector.transform(data['AllTagsuser'])\n"
      ],
      "execution_count": 0,
      "outputs": []
    },
    {
      "metadata": {
        "id": "jK6FTy1X5jh1",
        "colab_type": "code",
        "colab": {
          "base_uri": "https://localhost:8080/",
          "height": 156
        },
        "outputId": "c8cb58e4-ebb6-4b97-aa20-2dda2993ffbd"
      },
      "cell_type": "code",
      "source": [
        "# Import linear_kernel\n",
        "from sklearn.metrics.pairwise import linear_kernel\n",
        "\n",
        "# Compute the cosine similarity matrix\n",
        "cosine_sim = linear_kernel(test, train)\n",
        "print(cosine_sim)"
      ],
      "execution_count": 4,
      "outputs": [
        {
          "output_type": "stream",
          "text": [
            "[[ 0. 15.  0.  5.  0. 16.  2.  6.  2.  4.  3.  5.]\n",
            " [ 0. 45. 16.  2.  2. 26.  0.  0.  0.  0.  0.  0.]\n",
            " [ 4.  0.  0.  0.  0.  1.  0.  0.  0.  0.  0.  0.]\n",
            " [ 1. 36. 20.  8. 34. 31.  2.  0.  0.  0.  0.  0.]\n",
            " [ 0. 17.  2.  7.  9. 13.  1.  1.  0.  0.  0.  0.]\n",
            " [ 0. 24. 11.  6. 11. 23.  7.  1.  7.  3.  6.  3.]\n",
            " [ 0. 18.  7.  2. 14. 13.  0.  0.  0.  0.  0.  0.]\n",
            " [ 0.  2.  0.  0.  0.  2.  0.  0.  0.  0.  0.  0.]]\n"
          ],
          "name": "stdout"
        }
      ]
    },
    {
      "metadata": {
        "id": "VJRLoUV0HLx5",
        "colab_type": "code",
        "colab": {}
      },
      "cell_type": "code",
      "source": [
        "#Construct a reverse map of indices and videokeys\n",
        "indices = pd.Series(data.index, index=data['index']).drop_duplicates()"
      ],
      "execution_count": 0,
      "outputs": []
    },
    {
      "metadata": {
        "id": "u5EiJa385k6H",
        "colab_type": "code",
        "colab": {}
      },
      "cell_type": "code",
      "source": [
        "\n",
        "def get_recommendations(userKey, cosine_sim=cosine_sim):\n",
        "    \n",
        "    idx = indices[userKey]\n",
        "    sim_scores = list(enumerate(cosine_sim[idx]))\n",
        "    sim_scores = sorted(sim_scores, key=lambda x: x[1], reverse=True)\n",
        "        \n",
        "    video_indices = [i[0] for i in sim_scores]\n",
        "    \n",
        "    all_recommendations = AllTagsProblem.iloc[video_indices]\n",
        "    \n",
        "    video_key_reco = list(all_recommendations.index)\n",
        "    \n",
        "    video_key_new = []\n",
        "    for keys in video_key_reco:\n",
        "      if keys not in videos_watched[userKey]:\n",
        "          video_key_new.append(keys)\n",
        "          \n",
        "    if len(video_key_new) > 3:        \n",
        "      video_key_new = video_key_new[:3]\n",
        "    \n",
        "    return video_key_new"
      ],
      "execution_count": 0,
      "outputs": []
    },
    {
      "metadata": {
        "id": "4KcKC5qw6c3r",
        "colab_type": "code",
        "colab": {
          "base_uri": "https://localhost:8080/",
          "height": 34
        },
        "outputId": "a7d2befa-8487-4e10-c2ab-c1505b4a31ca"
      },
      "cell_type": "code",
      "source": [
        "#this function returns the ranked video recommendations i.e videokey and tags associated with that problem(ranked based on similarity)\n",
        "get_recommendations('PBTm2mzeHpZ7E3VkAmZrrTjPmJy2')"
      ],
      "execution_count": 7,
      "outputs": [
        {
          "output_type": "execute_result",
          "data": {
            "text/plain": [
              "['-LFLgPST2DOQkhEL8zl6', '-LGZ1W3At4LlWZNJNGqJ', '-LGZ1mArBTe7PTT5r9Os']"
            ]
          },
          "metadata": {
            "tags": []
          },
          "execution_count": 7
        }
      ]
    },
    {
      "metadata": {
        "id": "VlBfYT0XNKBC",
        "colab_type": "code",
        "colab": {
          "base_uri": "https://localhost:8080/",
          "height": 434
        },
        "outputId": "f623865a-622b-42f9-e954-bfffa1f91fdb"
      },
      "cell_type": "code",
      "source": [
        "# finally function that returns a dictionary with recommendations\n",
        "\n",
        "def recommender():\n",
        "    recommendations = {}\n",
        "    for rows in data.itertuples():\n",
        "      recommendations[rows[1]] = get_recommendations(rows[1])\n",
        "      \n",
        "    return recommendations\n",
        "  \n",
        "recommender()\n",
        "\n"
      ],
      "execution_count": 8,
      "outputs": [
        {
          "output_type": "execute_result",
          "data": {
            "text/plain": [
              "{'17d6d1LuweS3vlOKnMyonkV03D03': ['-LGZ2GDFwYKYDKm0nssk',\n",
              "  '-LGZ1W3At4LlWZNJNGqJ',\n",
              "  '-LGZ1yNVLpQYrvnKTRXL'],\n",
              " 'AQemrWVOgGXggX3ThOFUQXyAKnQ2': ['-LFLgPST2DOQkhEL8zl6',\n",
              "  '-LFH71vDNMNCgXB2O4RT',\n",
              "  '-LFLgHKNeCgNEw0qzSkl'],\n",
              " 'I9nQZbQ5xMdklnudDqGfh1ucOZz2': ['-LFLgPST2DOQkhEL8zl6',\n",
              "  '-LFH5af1gB_VUOhOV25C',\n",
              "  '-LFH6pRkce1qEz7flOg3'],\n",
              " 'OVkIA2ZkVbVCtzU9x1dHEVnvK8x1': ['-LGZ1W3At4LlWZNJNGqJ',\n",
              "  '-L9JSkGVgGDRBckUlSjL',\n",
              "  '-LGZ1mArBTe7PTT5r9Os'],\n",
              " 'PBTm2mzeHpZ7E3VkAmZrrTjPmJy2': ['-LFLgPST2DOQkhEL8zl6',\n",
              "  '-LGZ1W3At4LlWZNJNGqJ',\n",
              "  '-LGZ1mArBTe7PTT5r9Os'],\n",
              " 'TOT2Pe5KKIe8QufgPxM2S22VqHv1': ['-LGZ28OSwIsABpGQcfhP',\n",
              "  '-LGZ2er1NHk7gq4khVWl',\n",
              "  '-LGZ1mArBTe7PTT5r9Os'],\n",
              " 'YWvoiBjXH9fNwayEJzuxRCyRv593': ['-LFH71vDNMNCgXB2O4RT',\n",
              "  '-L9JSkGVgGDRBckUlSjL',\n",
              "  '-LGZ1W3At4LlWZNJNGqJ'],\n",
              " 'jpG3H98JWMTlMd82eFENoc4YdEB2': ['-LFLgPST2DOQkhEL8zl6',\n",
              "  '-L9JSkGVgGDRBckUlSjL',\n",
              "  '-LFH6pRkce1qEz7flOg3']}"
            ]
          },
          "metadata": {
            "tags": []
          },
          "execution_count": 8
        }
      ]
    },
    {
      "metadata": {
        "id": "VjO02hInN4n8",
        "colab_type": "code",
        "colab": {}
      },
      "cell_type": "code",
      "source": [
        ""
      ],
      "execution_count": 0,
      "outputs": []
    }
  ]
}