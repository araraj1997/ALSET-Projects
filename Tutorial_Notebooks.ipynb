{
  "nbformat": 4,
  "nbformat_minor": 0,
  "metadata": {
    "colab": {
      "name": "Tutorial Notebooks.ipynb",
      "version": "0.3.2",
      "provenance": [],
      "collapsed_sections": [],
      "include_colab_link": true
    },
    "kernelspec": {
      "name": "python3",
      "display_name": "Python 3"
    }
  },
  "cells": [
    {
      "cell_type": "markdown",
      "metadata": {
        "id": "view-in-github",
        "colab_type": "text"
      },
      "source": [
        "[View in Colaboratory](https://colab.research.google.com/github/araraj1997/Recommendation-Systems/blob/master/Tutorial_Notebooks.ipynb)"
      ]
    },
    {
      "metadata": {
        "id": "Rme9-yVh3PGE",
        "colab_type": "text"
      },
      "cell_type": "markdown",
      "source": [
        "# List of all Tutorial Notebooks\n",
        "\n",
        "\n",
        "---\n",
        "\n",
        "\n",
        "\n",
        "*   [Tutorial 1(Naive Bayes)](https://colab.research.google.com/drive/1TIYqsL-5bLyQYH032ArSq6-VDJQRnXf4)\n",
        "\n",
        "\n",
        "*   [Tutorial 2(K Nearest Neighbors)](https://colab.research.google.com/drive/1jyZlrHdc56RAVQSwa5tjakZ7S6zMIhAJ)\n",
        "\n",
        "*   [Tutorial 3(Logistic Regression)](https://colab.research.google.com/drive/1ofMDzaNpkMwjOg3cZh957KwSdprRFSw0)\n",
        "\n",
        "*   [Tutorial 4(Bias and Variance)](https://colab.research.google.com/drive/1WLWkCRZexEWNP2hm0KVctNfdLsaYdjQ2)\n",
        "\n",
        "\n",
        "*   [Tutorial 5(Regularization and Validation)](https://colab.research.google.com/drive/1d9S6nMx4MRMviJaTcQgQe2ZjcoRDb_o4)\n",
        "\n",
        "*   [Tutorial 6(Neural Networks)](https://colab.research.google.com/drive/1HtjG5RQc-XMFDJkUYa7NZZ_fxKS5ekgK)\n",
        "\n",
        "*   [Tutorial 7(Convolutional Neural Networks)](https://colab.research.google.com/drive/1u-90l2JE4hpU-MWCrpQIJtao7jHb7i3H)\n",
        "\n",
        "*   [Tutorial 8(Support Vector Machine)](https://colab.research.google.com/drive/11ePoFef4q9FiAbQInyKbIngzjybu_N2N)\n",
        "\n",
        "*   [Tutorial 9(Decision Tree)](https://colab.research.google.com/drive/1rFmligjfprinQechQOQGikBj-GX6sXPZ)\n",
        "\n",
        "*   [Tutorial 10(K Means Clustering)](https://colab.research.google.com/drive/1xMYrKuPyUUyVHeD6rJ5fW4PLOQlYSwqr)\n"
      ]
    },
    {
      "metadata": {
        "id": "faQyo0u3__wZ",
        "colab_type": "text"
      },
      "cell_type": "markdown",
      "source": [
        "# List Of All Problems and Solutions\n",
        "\n",
        "\n",
        "*   [Problem1(Naive Bayes)](https://colab.research.google.com/drive/17bH_xMu9A5CJdY_elXNfyO-NNtVzYbMQ)\n",
        "\n",
        "     [Solution1(Naive Bayes)](https://colab.research.google.com/drive/1WlyXX0-cR7oCnbAFpDw67nD5m71mK99c)\n",
        "     \n",
        "\n",
        "\n",
        "*   [Problem2(kNearestNeighbors)](https://colab.research.google.com/drive/1WP0Q7bKWtgSAYJfZJ_z0FHQrPFCuz0ny)\n",
        "\n",
        "     [Solution2(kNearestNeighbors)](https://colab.research.google.com/drive/145nFH9ATtA4ZyxSUhf-RPQlPBXnz6wLm)\n",
        "     \n",
        "     \n",
        "*   [Problem3(LogisticRegression)](https://colab.research.google.com/drive/1qhSbZqX-B_HkSOSEK4kQBk6i0Lpz9Nyh)\n",
        "\n",
        "     [Solution3(LogisticRegression)](https://colab.research.google.com/drive/1c48ReLtxmdwsGRjb7xNcxuQV71rFs32T)\n",
        "     \n",
        "     \n",
        "*   [Problem4(Neural Network)](https://colab.research.google.com/drive/1WAxq0G7leCTb4PKSMkOx4FrHpS4YNtFX)\n",
        "\n",
        "     [Solution4(Neural Network)](https://colab.research.google.com/drive/1qWRvktvhNCrbcXX0aJiUeYZSaVRuEKG3)\n",
        "     \n",
        "     \n",
        "*   [Problem5(Convolutional Neural Network)](https://colab.research.google.com/drive/1RezD6gentuKliCzXOI3xgfMAq2FT33rS)\n",
        "\n",
        "     [Solution5(Convolutional Neural Network)](https://colab.research.google.com/drive/1KvD7UR8Y0lI59PXERJF25h71756x9iDq)\n",
        "\n",
        "\n",
        "*   [Problem6(Support Vector Machine)](https://colab.research.google.com/drive/1mi7RA6sc5o4FnGEWDuDtLnOyGxiBEpHg)\n",
        "\n",
        "     [Solution6(Support Vector Machine)](https://colab.research.google.com/drive/11KUSoMYdMi8Asp6G1cWNGRfsqEKo52nT)\n",
        "     \n",
        "*   [Problem7(Decision Tree)](https://colab.research.google.com/drive/1ErCON6VQXkRLwIYVErp2gLDg1TmQIkth)\n",
        "\n",
        "     [Solution7(Decision Tree)](https://colab.research.google.com/drive/1_50I5n7K5uklwHRFqzIZmQYZvdivwV98)\n",
        "     \n",
        "     \n",
        "*   [Problem8(K Means Clustering)](https://colab.research.google.com/drive/1LpwY19RoEml0vTQLdV8s2bNZLXAbMwb0)\n",
        "\n",
        "     [Solution8(K Means Clustering)](https://colab.research.google.com/drive/1xi4GhcrABdhFKHugR7fLRqiMZcZHLZzs)\n",
        "\n"
      ]
    },
    {
      "metadata": {
        "id": "_s7f0VzKqV69",
        "colab_type": "text"
      },
      "cell_type": "markdown",
      "source": [
        "**Link to all Tutorial Datasets**\n",
        "\n",
        "[Tutorial Data](https://github.com/araraj1997/Tutorial-Data)"
      ]
    }
  ]
}