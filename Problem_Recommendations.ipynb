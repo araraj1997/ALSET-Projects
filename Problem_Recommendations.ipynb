{
  "nbformat": 4,
  "nbformat_minor": 0,
  "metadata": {
    "colab": {
      "name": "Putting Recommendations into Firebase.ipynb",
      "version": "0.3.2",
      "provenance": [],
      "collapsed_sections": [],
      "include_colab_link": true
    },
    "kernelspec": {
      "name": "python3",
      "display_name": "Python 3"
    }
  },
  "cells": [
    {
      "cell_type": "markdown",
      "metadata": {
        "id": "view-in-github",
        "colab_type": "text"
      },
      "source": [
        "[View in Colaboratory](https://colab.research.google.com/github/araraj1997/Recommendation-Systems/blob/master/Problem_Recommendations.ipynb)"
      ]
    },
    {
      "metadata": {
        "id": "iyirEfX8oCmU",
        "colab_type": "text"
      },
      "cell_type": "markdown",
      "source": [
        "##############################################################################################################################\n",
        "\n",
        "# PRESS \"Refactored Functions to suit specs\" AND PRESS \"Run Before\" UNDER \"Runtime\"\n",
        "\n",
        "##############################################################################################################################"
      ]
    },
    {
      "metadata": {
        "id": "HLgRj6hven_Z",
        "colab_type": "toc"
      },
      "cell_type": "markdown",
      "source": [
        "## **_ Rough Code for Firebase Functions _**\n",
        ">[Getting data from firebase](#scrollTo=sSPySrWBXrSc)\n",
        "\n",
        ">>[Downloading the relevant path data from Achievements-dev](#scrollTo=3VltLDF1pMiq)\n",
        "\n",
        ">>[Downloading relevant course data from Achievements-prod](#scrollTo=j4Vl4Fw7pZZ5)\n",
        "\n",
        ">>[Functions need to format raw data from Firebase](#scrollTo=lyBvJ6ZhX-0n)\n",
        "\n",
        ">>[Connecting to Firebase to be able to write to it](#scrollTo=57jhC3BrBoDX)\n",
        "\n",
        ">>>[CODE TO GET RECOMMENDATIONS](#scrollTo=HOHUkVRbdbta)\n",
        "\n",
        ">>>[END OF CODE TO GET RECOMMENDATIONS](#scrollTo=24EaX_XtfJ6Y)\n",
        "\n",
        ">>[Formatting original featureProblemPercentiles](#scrollTo=xQfXKSZ8evs0)\n",
        "\n",
        ">>[Formatting original featureRanking](#scrollTo=BPjvziZPezyH)\n",
        "\n",
        ">>[Formatting original nextRecommendations](#scrollTo=yhdYX8-_6fWo)\n",
        "\n",
        ">[Putting things into firebase](#scrollTo=a_-QMBXkjzPo)\n",
        "\n",
        "---\n",
        "\n",
        "## **_ To convert from Python Code to Javascript: _**\n",
        "\n",
        "# [**Refactored Functions to suit specs**](#scrollTo=xNZazdNt_NjN)\n",
        "\n",
        "---"
      ]
    },
    {
      "metadata": {
        "id": "sSPySrWBXrSc",
        "colab_type": "text"
      },
      "cell_type": "markdown",
      "source": [
        "# Getting data from firebase"
      ]
    },
    {
      "metadata": {
        "id": "wbJ4koXCVZp9",
        "colab_type": "code",
        "colab": {
          "base_uri": "https://localhost:8080/",
          "height": 35
        },
        "outputId": "51ffe68b-0838-44a9-afcf-77dabbe828d5"
      },
      "cell_type": "code",
      "source": [
        "import getpass\n",
        "token = getpass.getpass()"
      ],
      "execution_count": 14,
      "outputs": [
        {
          "output_type": "stream",
          "text": [
            "··········\n"
          ],
          "name": "stdout"
        }
      ]
    },
    {
      "metadata": {
        "id": "06w1zTgfJqzG",
        "colab_type": "code",
        "colab": {
          "base_uri": "https://localhost:8080/",
          "height": 37
        },
        "outputId": "975c2f8b-3e2d-4b8f-8234-f34fbe0b23fa"
      },
      "cell_type": "code",
      "source": [
        "#print(\"The entered token was\", token)\n",
        "\n",
        "# This is a list of all the current api options\n",
        "apiDev = [\"paths\", \"problems\", \"problemSolutions\", \"userSkills\", \"problemSkills\", \"featureProblemPercentiles\", \"featureRanking\", \"userRecommendations\"]\n",
        "\n",
        "#apiProd = [\"courses\",\"solutions\",\"courseMembers\"]"
      ],
      "execution_count": 15,
      "outputs": []
    },
    {
      "metadata": {
        "id": "3VltLDF1pMiq",
        "colab_type": "text"
      },
      "cell_type": "markdown",
      "source": [
        "### Downloading the relevant path data from Achievements-dev"
      ]
    },
    {
      "metadata": {
        "id": "tbteSRxLVeA5",
        "colab_type": "code",
        "colab": {
          "base_uri": "https://localhost:8080/",
          "height": 156
        },
        "outputId": "80579a1e-40aa-44b9-aaee-13468179c15b"
      },
      "cell_type": "code",
      "source": [
        "import os.path\n",
        "import requests \n",
        "\n",
        "\n",
        "def download_file_dev(option):\n",
        "# Check to see if file already exists\n",
        "  filename = option+\".json\"\n",
        "  fileExists = os.path.isfile(filename) \n",
        "  \n",
        "  if not fileExists:\n",
        "    print(\"Downloading\", option, \"and saving to\", filename, end='')\n",
        "    url = \"https://us-central1-achievements-dev.cloudfunctions.net/api?token=\"+token+\"&data=\"+option\n",
        "    response = requests.get(url, stream=True)\n",
        "\n",
        "    # Throw an error for bad status codes\n",
        "    response.raise_for_status()\n",
        "\n",
        "    with open(filename, 'wb') as handle:\n",
        "      for block in response.iter_content(1024*128):  # Load 128KB at a time and provide feedback. \n",
        "          print('.', end='') # print without new line\n",
        "          handle.write(block)\n",
        "    print('\\n',filename, \"downloaded.\")\n",
        "  else:\n",
        "     print(filename, \"exists. Skipping download\")\n",
        "\n",
        "for filename in apiDev:\n",
        "  download_file_dev(filename)"
      ],
      "execution_count": 16,
      "outputs": [
        {
          "output_type": "stream",
          "text": [
            "paths.json exists. Skipping download\n",
            "problems.json exists. Skipping download\n",
            "problemSolutions.json exists. Skipping download\n",
            "userSkills.json exists. Skipping download\n",
            "problemSkills.json exists. Skipping download\n",
            "featureProblemPercentiles.json exists. Skipping download\n",
            "featureRanking.json exists. Skipping download\n",
            "userRecommendations.json exists. Skipping download\n"
          ],
          "name": "stdout"
        }
      ]
    },
    {
      "metadata": {
        "id": "j4Vl4Fw7pZZ5",
        "colab_type": "text"
      },
      "cell_type": "markdown",
      "source": [
        "### Downloading relevant course data from Achievements-prod"
      ]
    },
    {
      "metadata": {
        "id": "2pLMy5EMpfVR",
        "colab_type": "code",
        "colab": {
          "base_uri": "https://localhost:8080/",
          "height": 37
        },
        "outputId": "51b1024d-eb56-4099-adab-427507ee3673"
      },
      "cell_type": "code",
      "source": [
        "import os.path\n",
        "import requests \n",
        "\n",
        "\n",
        "def download_file_prod(option):\n",
        "# Check to see if file already exists\n",
        "  filename = option+\".json\"\n",
        "  fileExists = os.path.isfile(filename) \n",
        "  \n",
        "  if not fileExists:\n",
        "    print(\"Downloading\", option, \"and saving to\", filename, end='')\n",
        "    url = \"https://us-central1-achievements-prod.cloudfunctions.net/api?token=\"+token+\"&data=\"+option\n",
        "    response = requests.get(url, stream=True)\n",
        "\n",
        "    # Throw an error for bad status codes\n",
        "    response.raise_for_status()\n",
        "\n",
        "    with open(filename, 'wb') as handle:\n",
        "      for block in response.iter_content(1024*128):  # Load 128KB at a time and provide feedback. \n",
        "          print('.', end='') # print without new line\n",
        "          handle.write(block)\n",
        "    print('\\n',filename, \"downloaded.\")\n",
        "  else:\n",
        "     print(filename, \"exists. Skipping download\")\n",
        "\n",
        "# for filename in apiProd:\n",
        "#   download_file_prod(filename)"
      ],
      "execution_count": 17,
      "outputs": []
    },
    {
      "metadata": {
        "id": "KkYTkXCPVg9H",
        "colab_type": "code",
        "colab": {
          "base_uri": "https://localhost:8080/",
          "height": 69
        },
        "outputId": "608eb5ac-aece-4fd6-d909-7283a90a28d0"
      },
      "cell_type": "code",
      "source": [
        "!ls"
      ],
      "execution_count": 18,
      "outputs": [
        {
          "output_type": "stream",
          "text": [
            "datalab\t\t\t\tpaths.json\t    problemSolutions.json\r\n",
            "featureProblemPercentiles.json\tproblems.json\t    userRecommendations.json\r\n",
            "featureRanking.json\t\tproblemSkills.json  userSkills.json\r\n"
          ],
          "name": "stdout"
        }
      ]
    },
    {
      "metadata": {
        "id": "zQLSXmbkVn3A",
        "colab_type": "code",
        "colab": {
          "base_uri": "https://localhost:8080/",
          "height": 55
        },
        "outputId": "2c3bee55-7772-46dd-d916-9b8e247bc05e"
      },
      "cell_type": "code",
      "source": [
        "list_API=!ls\n",
        "print(list_API)"
      ],
      "execution_count": 19,
      "outputs": [
        {
          "output_type": "stream",
          "text": [
            "['datalab', 'featureProblemPercentiles.json', 'featureRanking.json', 'paths.json', 'problems.json', 'problemSkills.json', 'problemSolutions.json', 'userRecommendations.json', 'userSkills.json']\n"
          ],
          "name": "stdout"
        }
      ]
    },
    {
      "metadata": {
        "id": "zOkpV4OBVqhY",
        "colab_type": "code",
        "colab": {
          "base_uri": "https://localhost:8080/",
          "height": 37
        },
        "outputId": "45334a17-3a56-4620-8c10-31ae0da7166b"
      },
      "cell_type": "code",
      "source": [
        "import json\n",
        "#read data from json file\n",
        "\n",
        "def get_dict_from_file(fname):\n",
        "  d = {}\n",
        "  with open(fname) as json_data:\n",
        "    #if len(json_data.readlines()) != 1:\n",
        "      #json_data.seek(1)\n",
        "      d = json.load(json_data)\n",
        "  return d\n",
        "\n",
        "# courseMembers_data={}\n",
        "# courses_data={}\n",
        "# solutions_data={}\n",
        "# users_data={}\n",
        "paths_data = {}\n",
        "problems_data = {}\n",
        "problemSolutions_data = {}\n",
        "userskills_data = {}\n",
        "problemskills_data = {}\n",
        "fpp_data = {}\n",
        "featRank_data = {}\n",
        "userReco_data = {}\n",
        "\n",
        "\n",
        "# for file in list_API:\n",
        "#   if file == 'courseMembers.json':\n",
        "#     d = get_dict_from_file(file)\n",
        "#     courseMembers_data.update(d)\n",
        "# for file in list_API:\n",
        "#   if file == 'courses.json':\n",
        "#     d = get_dict_from_file(file)\n",
        "#     courses_data.update(d)\n",
        "# for file in list_API:\n",
        "#   if file == 'solutions.json':\n",
        "#     d = get_dict_from_file(file)\n",
        "#     solutions_data.update(d)\n",
        "for file in list_API:\n",
        "  if file == 'paths.json':\n",
        "    d = get_dict_from_file(file)\n",
        "    paths_data.update(d)\n",
        "for file in list_API:\n",
        "  if file == 'problemSolutions.json':\n",
        "    d = get_dict_from_file(file)\n",
        "    problemSolutions_data.update(d)\n",
        "for file in list_API:\n",
        "  if file == 'problems.json':\n",
        "    d = get_dict_from_file(file)\n",
        "    problems_data.update(d)\n",
        "\n",
        "\n",
        "# for file in list_API:\n",
        "#   if file == 'users.json':\n",
        "#     d = get_dict_from_file(file)\n",
        "#     users_data.update(d)\n",
        "\n",
        "for file in list_API:\n",
        "  if file == 'userSkills.json':\n",
        "    d = get_dict_from_file(file)\n",
        "    userskills_data.update(d)\n",
        "for file in list_API:\n",
        "  if file == 'problemSkills.json':\n",
        "    d = get_dict_from_file(file)\n",
        "    problemskills_data.update(d)\n",
        "for file in list_API:\n",
        "  if file == 'featureProblemPercentiles.json':\n",
        "    d = get_dict_from_file(file)\n",
        "    fpp_data.update(d)\n",
        "for file in list_API:\n",
        "  if file == 'featureRanking.json':\n",
        "    d = get_dict_from_file(file)\n",
        "    featRank_data.update(d)\n",
        "for file in list_API:\n",
        "  if file == 'userRecommendations.json':\n",
        "    d = get_dict_from_file(file)\n",
        "    userReco_data.update(d)"
      ],
      "execution_count": 20,
      "outputs": []
    },
    {
      "metadata": {
        "id": "lyBvJ6ZhX-0n",
        "colab_type": "text"
      },
      "cell_type": "markdown",
      "source": [
        "## Functions need to format raw data from Firebase"
      ]
    },
    {
      "metadata": {
        "id": "956M4ET9w7hi",
        "colab_type": "code",
        "colab": {
          "base_uri": "https://localhost:8080/",
          "height": 37
        },
        "outputId": "38dbaeb6-f316-4a08-dfd0-a639ac2353f8"
      },
      "cell_type": "code",
      "source": [
        "##################### TO GET SOLUTIONS SUBMITTED FOR QNS IN A COURSE #########################################\n",
        "\n",
        "# dict returned by getCourseSol is {qnsID: {userID: submittedsoln, user2: soln, ...}, qnsID2: {}}\n",
        "\n",
        "def getCourseSol(soldata):\n",
        "  result = {}\n",
        "  for course in soldata:\n",
        "    for user in soldata[course]:\n",
        "      for qns in soldata[course][user]:\n",
        "        if type(soldata[course][user][qns])==dict and type(soldata[course][user][qns]['value'])==dict:\n",
        "          if 'value' in soldata[course][user][qns].keys():\n",
        "            if 'cells' in soldata[course][user][qns]['value'].keys():\n",
        "              if qns not in result.keys():\n",
        "                result[qns] = {}\n",
        "                result[qns][user] = \"\".join(soldata[course][user][qns]['value']['cells'][0]['source'])\n",
        "              else:\n",
        "                result[qns][user] = \"\".join(soldata[course][user][qns]['value']['cells'][0]['source'])\n",
        "              \n",
        "  return result"
      ],
      "execution_count": 22,
      "outputs": []
    },
    {
      "metadata": {
        "id": "n6oHDsk8s8IY",
        "colab_type": "code",
        "colab": {
          "base_uri": "https://localhost:8080/",
          "height": 55
        },
        "outputId": "05d04320-1fac-4729-e247-bd9758cdb1a2"
      },
      "cell_type": "code",
      "source": [
        "##################### TO GET SOLUTIONS SUBMITTED WHEN STUDENTS ATTEMPT PATHS #########################################\n",
        "\n",
        "# dict returned by getPathSol is {qnsID: {userID: submittedsoln, user2: soln, ...}, qnsID2: {}}\n",
        "\n",
        "def getPathSol(probsol):\n",
        "  result = {}\n",
        "  for qns in probsol:\n",
        "    for user in probsol[qns]:\n",
        "      if type(probsol[qns][user])==dict:\n",
        "        if 'cells' in probsol[qns][user].keys():\n",
        "          if qns not in result.keys():\n",
        "            result[qns] = {}\n",
        "            result[qns][user] = \"\".join(probsol[qns][user]['cells'][0]['source'])\n",
        "          else:\n",
        "            result[qns][user] = \"\".join(probsol[qns][user]['cells'][0]['source'])\n",
        "  return result\n",
        "            \n",
        "print(getPathSol(problemSolutions_data))"
      ],
      "execution_count": 23,
      "outputs": [
        {
          "output_type": "stream",
          "text": [
            "{'-LEgrNOmnWsFkr6nFHwO': {'0uB55jXtOnQUtFffPYK1aGLiZO33': '# return the values of a dictionary d as a list\\ndef listValues(d):\\n    l = []\\n    for v in d.values():\\n        l.append(v)\\n    return l\\n\\n', '3MBpk3DgmXTJeKqVTEq3vi4bpML2': '# return the values of a dictionary d as a list\\ndef listValues(d):\\n    return list(d.values())\\n\\n', '9D72RQCGQadyNE83vqvTNukk7Fz2': '# return the values of a dictionary d as a list\\n# def listValues(d)\\ndef listValues(d):\\n  return list(d.values())\\n  \\n\\n', 'OVkIA2ZkVbVCtzU9x1dHEVnvK8x1': '# return the values of a dictionary d as a list\\n# def listValues(d)\\ndef listValues(d):\\n    mylist = list(d.values())\\n    #print(mylist)\\n    return mylist\\n', 'TOT2Pe5KKIe8QufgPxM2S22VqHv1': '# return the values of a dictionary d as a list\\n# def listValues(d)\\ndef listValues(d):\\n    return list(d.values())\\n', 'eVJVC9kde3QSiXAP989kivD9SZn2': '# return the values of a dictionary d as a list\\ndef listValues(d):\\n    result = []\\n    for key in d: \\n        result.append(d[key])    \\n    return result\\n    \\n\\n', 'ms3bbFtcuXN9ha7t8Ef2b3YBdVT2': '# return the values of a dictionary d as a list\\n# def listValues(d)\\ndef listValues(d):\\n  list(d)\\n'}, '-LErQu5eewtUxJVx38hz': {'OVkIA2ZkVbVCtzU9x1dHEVnvK8x1': '# define a function which returns true if word is found in string\\n# def findWord(word, string)\\ndef findWord(word, string):\\n    if string.find(word) >= 0:\\n       # print(string.find(word))\\n        return True\\n    #print(string.find(word))\\n    return False\\n', 'TOT2Pe5KKIe8QufgPxM2S22VqHv1': '# define a function which returns true if word is found in string\\n# def findWord(word, string)\\ndef findWord(word, string):\\n    return word in string\\n', 'eVJVC9kde3QSiXAP989kivD9SZn2': '# define a function which returns true if word is found in string\\ndef findWord(word, string):\\n    l = list((\"apple\", \"banana\", \"cherry\"))\\n    if word in string:\\n        return True\\n    return False\\n'}, '-LErUlHo9-D88pPKcl3G': {'OVkIA2ZkVbVCtzU9x1dHEVnvK8x1': '# def a function to change the element at pos\\n# to newEle in the tuple and returns the updated tuple\\n# pos = 1 will refer to index = 0 in a tuple\\n# def updateTup(pos, newEle, tup)\\ndef updateTup(pos, newEle, tup):\\n    mylist = list(tup)\\n    mylist[pos-1] = newEle\\n    tup = tuple(mylist)\\n    #print(tup)\\n    return tup\\n', 'TOT2Pe5KKIe8QufgPxM2S22VqHv1': '# def a function to change the element at pos\\n# to newEle in the tuple and returns the updated tuple\\n# pos = 1 will refer to index = 0 in a tuple\\n# def updateTup(pos, newEle, tup)\\ndef updateTup(pos,newEle, tup):\\n    new_list = list(tup)\\n    new_list[pos-1] = newEle\\n    tup = tuple(new_list)\\n    return tup\\n'}, '-LFGnH4PCK-nJ_ehFSLm': {'OVkIA2ZkVbVCtzU9x1dHEVnvK8x1': '###Replace: Create a function to replace a target string in a template with a different string. '}, '-LFGoFBJ7Ot4oC_jqfqD': {'0uB55jXtOnQUtFffPYK1aGLiZO33': '# def a function to return a and b combined with a space\\ndef combineWord(a, b):\\n    return a + \" \" + b\\n', 'OVkIA2ZkVbVCtzU9x1dHEVnvK8x1': \"# def a function to return a and b combined with a space\\n# def combineWord(a, b)\\ndef combineWord(a, b):\\n    mystr = a +' '+ b\\n    return mystr\\n\", 'TOT2Pe5KKIe8QufgPxM2S22VqHv1': '# def a function to return a and b combined with a space\\ndef combineWord(a, b):\\n    s = \" \"\\n    seq = [a,b]\\n    return s.join(seq)\\n'}}\n"
          ],
          "name": "stdout"
        }
      ]
    },
    {
      "metadata": {
        "id": "DF78z-4B5Ab-",
        "colab_type": "code",
        "colab": {
          "base_uri": "https://localhost:8080/",
          "height": 35
        },
        "outputId": "fd284138-8cab-487e-ab90-e3510216a670"
      },
      "cell_type": "code",
      "source": [
        "## Finding for path key: --> ignore those without path id\n",
        "\n",
        "def getPathID(problemcode, probdata):\n",
        "  for user in probdata:\n",
        "    for qns in probdata[user]:\n",
        "      if 'path' in probdata[user][qns]:\n",
        "        if qns == problemcode:\n",
        "          return probdata[user][qns]['path']\n",
        "  return 'null'\n",
        "\n",
        "\n",
        "print(getPathID('-LErQu5eewtUxJVx38hz', problems_data))"
      ],
      "execution_count": 24,
      "outputs": [
        {
          "output_type": "stream",
          "text": [
            "-LEgr4SIfoy5fMPgB03F\n"
          ],
          "name": "stdout"
        }
      ]
    },
    {
      "metadata": {
        "id": "57jhC3BrBoDX",
        "colab_type": "text"
      },
      "cell_type": "markdown",
      "source": [
        "## Connecting to Firebase to be able to write to it"
      ]
    },
    {
      "metadata": {
        "id": "p57__DErIqU5",
        "colab_type": "code",
        "colab": {
          "base_uri": "https://localhost:8080/",
          "height": 243
        },
        "outputId": "dd38f71e-2be9-42cd-9509-b819a388b4f7"
      },
      "cell_type": "code",
      "source": [
        "!pip install python-firebase"
      ],
      "execution_count": 25,
      "outputs": [
        {
          "output_type": "stream",
          "text": [
            "Collecting python-firebase\n",
            "  Downloading https://files.pythonhosted.org/packages/32/e6/88b799753e64aeb0f24040b98c94012994cf9517c889dee4f8a49ac89400/python-firebase-1.2.tar.gz\n",
            "Requirement already satisfied: requests>=1.1.0 in /usr/local/lib/python3.6/dist-packages (from python-firebase) (2.18.4)\n",
            "Requirement already satisfied: chardet<3.1.0,>=3.0.2 in /usr/local/lib/python3.6/dist-packages (from requests>=1.1.0->python-firebase) (3.0.4)\n",
            "Requirement already satisfied: idna<2.7,>=2.5 in /usr/local/lib/python3.6/dist-packages (from requests>=1.1.0->python-firebase) (2.6)\n",
            "Requirement already satisfied: certifi>=2017.4.17 in /usr/local/lib/python3.6/dist-packages (from requests>=1.1.0->python-firebase) (2018.4.16)\n",
            "Requirement already satisfied: urllib3<1.23,>=1.21.1 in /usr/local/lib/python3.6/dist-packages (from requests>=1.1.0->python-firebase) (1.22)\n",
            "Building wheels for collected packages: python-firebase\n",
            "  Running setup.py bdist_wheel for python-firebase ... \u001b[?25l-\b \b\\\b \bdone\n",
            "\u001b[?25h  Stored in directory: /content/.cache/pip/wheels/ba/40/ca/e41a25d7abb787092e837cb0f91f33b04b1a8fd9d17c2d33a6\n",
            "Successfully built python-firebase\n",
            "Installing collected packages: python-firebase\n",
            "Successfully installed python-firebase-1.2\n"
          ],
          "name": "stdout"
        }
      ]
    },
    {
      "metadata": {
        "id": "zcCLFpxZRIUx",
        "colab_type": "code",
        "colab": {
          "base_uri": "https://localhost:8080/",
          "height": 37
        },
        "outputId": "d5297c50-385f-4c59-9635-7864d39ee46c"
      },
      "cell_type": "code",
      "source": [
        "import json\n",
        "import firebase\n",
        "from firebase import firebase\n",
        "from firebase.firebase import FirebaseApplication\n",
        "\n",
        "yourFirebaseProjectId = 'achievements-dev' \n",
        "\n",
        "# No authentication. You will need .write == true in your Firebase security rules. \n",
        "app = FirebaseApplication('https://'+ yourFirebaseProjectId +'.firebaseio.com/', None)"
      ],
      "execution_count": 26,
      "outputs": []
    },
    {
      "metadata": {
        "id": "HOHUkVRbdbta",
        "colab_type": "text"
      },
      "cell_type": "markdown",
      "source": [
        "\n",
        "\n",
        "---\n",
        "\n",
        "\n",
        "# CODE TO GET RECOMMENDATIONS"
      ]
    },
    {
      "metadata": {
        "id": "MYDwPKS0K6j5",
        "colab_type": "code",
        "colab": {
          "base_uri": "https://localhost:8080/",
          "height": 37
        },
        "outputId": "2f89d135-ab4b-4b42-e5ad-470722de041c"
      },
      "cell_type": "code",
      "source": [
        "import ast\n",
        "str = \"\"\"\n",
        "import sys\n",
        "import os\n",
        "def f1(l):\n",
        "    l.reverse()\n",
        "    reverse(l)\n",
        "    l.sort()\n",
        "    sorted(l)\n",
        "    len(l)\n",
        "    for x in l: \n",
        "        pass\n",
        "    return(l)\"\"\"\n",
        "tree = ast.parse(str)\n",
        "tree\n",
        "exec(compile(tree, filename=\"<ast>\", mode = \"exec\"))"
      ],
      "execution_count": 27,
      "outputs": []
    },
    {
      "metadata": {
        "id": "rtvsGROTSXac",
        "colab_type": "code",
        "colab": {
          "base_uri": "https://localhost:8080/",
          "height": 37
        },
        "outputId": "1490ed9d-0c38-42d0-aee4-08273ecf2a6f"
      },
      "cell_type": "code",
      "source": [
        "import ast\n",
        "from collections import deque\n",
        "\n",
        "\n",
        "class FuncCallVisitor(ast.NodeVisitor):\n",
        "    def __init__(self):\n",
        "        self._name = deque()\n",
        "\n",
        "    @property\n",
        "    def name(self):\n",
        "        #print(self._name)\n",
        "        return '.'.join(self._name)\n",
        "      \n",
        "\n",
        "    @name.deleter\n",
        "    def name(self):\n",
        "        self._name.clear()\n",
        "\n",
        "    # Updating to only show obj for ids\n",
        "    def visit_Name(self, node):\n",
        "        self._name.appendleft(node.id)\n",
        "\n",
        "\n",
        "    def visit_Attribute(self, node):\n",
        "        try:\n",
        "            self._name.appendleft(node.attr)\n",
        "            # hacking for demonstration list of functions\n",
        "            #self._name.appendleft(node.value.id)\n",
        "            self._name.appendleft(\"\")\n",
        "            \n",
        "            #print(node.value.id)\n",
        "        except AttributeError:\n",
        "            self.generic_visit(node)\n",
        "\n",
        "\n",
        "def get_func_calls(tree):\n",
        "    func_calls = []\n",
        "    for node in ast.walk(tree):\n",
        "        if isinstance(node, ast.Call):\n",
        "            callvisitor = FuncCallVisitor()\n",
        "            callvisitor.visit(node.func)\n",
        "            func_calls.append(callvisitor.name)\n",
        "    result = {}\n",
        "    for item in func_calls: \n",
        "      result[item] = True\n",
        "    #return sorted(list(set(func_calls)))\n",
        "    return result"
      ],
      "execution_count": 28,
      "outputs": []
    },
    {
      "metadata": {
        "id": "SwVpvjrKUUgO",
        "colab_type": "code",
        "colab": {
          "base_uri": "https://localhost:8080/",
          "height": 37
        },
        "outputId": "8b58f76e-253e-467a-917c-93b5c502a6e2"
      },
      "cell_type": "code",
      "source": [
        "# Collect all statements\n",
        "def getAllStat(tree):\n",
        "  stat = {}\n",
        "  for node in ast.walk(tree):\n",
        "    if isinstance(node, ast.While):\n",
        "      stat[\"While\"] = True\n",
        "    elif isinstance(node, ast.For):\n",
        "      stat[\"For\"] = True\n",
        "    elif isinstance(node, ast.Return):\n",
        "      stat[\"Return\"] = True\n",
        "    elif isinstance(node, ast.If):\n",
        "      stat[\"If\"] = True\n",
        "    #else:\n",
        "    #  print(node)\n",
        "    \n",
        "  return stat"
      ],
      "execution_count": 29,
      "outputs": []
    },
    {
      "metadata": {
        "id": "zFshjC1DWoSz",
        "colab_type": "code",
        "colab": {
          "base_uri": "https://localhost:8080/",
          "height": 37
        },
        "outputId": "4b7ea672-e09b-4fe1-c127-9318edc8446f"
      },
      "cell_type": "code",
      "source": [
        "# Collect all expressions\n",
        "def getAllExpr(tree):\n",
        "  expr = []\n",
        "  for node in ast.walk(tree):\n",
        "    if isinstance(node, ast.Add):\n",
        "      expr.append(\"+\")\n",
        "    if isinstance(node, ast.Eq):\n",
        "      expr.append(\"==\")\n",
        "    if isinstance(node, ast.Sub):\n",
        "      expr.append(\"-\")\n",
        "    if isinstance(node, ast.Mult):\n",
        "      expr.append(\"*\")\n",
        "    if isinstance(node, ast.Div):\n",
        "      expr.append(\"/\")\n",
        "    if isinstance(node, ast.Lt):\n",
        "      expr.append(\"<\")\n",
        "    if isinstance(node, ast.Gt):\n",
        "      expr.append(\">\")\n",
        "      \n",
        "  result = {}\n",
        "  for item in expr: \n",
        "    result[item] = True\n",
        "  return result    "
      ],
      "execution_count": 30,
      "outputs": []
    },
    {
      "metadata": {
        "id": "vTtuCrwcYcTK",
        "colab_type": "code",
        "colab": {
          "base_uri": "https://localhost:8080/",
          "height": 35
        },
        "outputId": "87eeea01-3a00-466d-9317-658e7d3c828f"
      },
      "cell_type": "code",
      "source": [
        "def getAllImports(a):\n",
        "\t\"\"\"Gather all imported module names\"\"\"\n",
        "\tif not isinstance(a, ast.AST):\n",
        "\t\treturn set()\n",
        "\timports = set()\n",
        "\tfor child in ast.walk(a):\n",
        "\t\tif type(child) == ast.Import:\n",
        "\t\t\tfor alias in child.names:\n",
        "\t\t\t\t\timports.add(alias.asname if alias.asname != None else alias.name)\n",
        "\t\telif type(child) == ast.ImportFrom:\n",
        "\t\t\t\tfor alias in child.names: # these are all functions\n",
        "\t\t\t\t\t\timports.add(alias.asname if alias.asname != None else alias.name)\n",
        "\tresult = {}\n",
        "\tfor item in imports: \n",
        "\t  result[item] = True\n",
        "\treturn result\n",
        "\n",
        "getAllImports(tree)"
      ],
      "execution_count": 31,
      "outputs": [
        {
          "output_type": "execute_result",
          "data": {
            "text/plain": [
              "{'os': True, 'sys': True}"
            ]
          },
          "metadata": {
            "tags": []
          },
          "execution_count": 31
        }
      ]
    },
    {
      "metadata": {
        "id": "36DEGF49jGxV",
        "colab_type": "code",
        "colab": {
          "base_uri": "https://localhost:8080/",
          "height": 156
        },
        "outputId": "7f78cc51-6812-43fe-a76a-42b18b439159"
      },
      "cell_type": "code",
      "source": [
        "def code_features(tree):\n",
        "  result = {\n",
        "        \"statements\":[],\n",
        "        \"functions\":[],\n",
        "        \"imports\":[],\n",
        "        \"expressions\":[]\n",
        "    }  \n",
        "  result[\"imports\"] = getAllImports(tree)\n",
        "  result[\"expressions\"] =getAllExpr(tree)\n",
        "  result[\"functions\"] = get_func_calls(tree)\n",
        "  result[\"statements\"] = getAllStat(tree)\n",
        "  return result\n",
        "\n",
        "code_features(tree)"
      ],
      "execution_count": 32,
      "outputs": [
        {
          "output_type": "execute_result",
          "data": {
            "text/plain": [
              "{'expressions': {},\n",
              " 'functions': {'.reverse': True,\n",
              "  '.sort': True,\n",
              "  'len': True,\n",
              "  'reverse': True,\n",
              "  'sorted': True},\n",
              " 'imports': {'os': True, 'sys': True},\n",
              " 'statements': {'For': True, 'Return': True}}"
            ]
          },
          "metadata": {
            "tags": []
          },
          "execution_count": 32
        }
      ]
    },
    {
      "metadata": {
        "id": "FlkrK70SfYLd",
        "colab_type": "code",
        "colab": {
          "base_uri": "https://localhost:8080/",
          "height": 37
        },
        "outputId": "e4f14dbd-ef5a-437c-d8cf-e3574c9cf5d9"
      },
      "cell_type": "code",
      "source": [
        "\n",
        "## final code for recos\n",
        "def getSolutionFeatures(student_solutions):\n",
        "  #Try listing funcitons from the student_solutions\n",
        "  \n",
        "  problem_key_dic = {}\n",
        "  user_count_dic ={} \n",
        "  for prob_count,problemKey in enumerate(student_solutions.keys()): \n",
        "    dic ={'imports':{},'statements':{},'expressions':{},'functions':{}}\n",
        "    \n",
        "    for user_count,userKey in enumerate(student_solutions[problemKey].keys()):\n",
        "      #print(student_solutions[problemKey][userKey])\n",
        "      src = student_solutions[problemKey][userKey]\n",
        "      features = code_features(ast.parse(src))\n",
        "      \n",
        "      for item in [\"imports\", \"statements\", \"expressions\", \"functions\"]: \n",
        "        for things in list(set(features[item])):\n",
        "            if things in dic[item]:\n",
        "              dic[item][things] +=1\n",
        "            else:\n",
        "              dic[item][things] = 1\n",
        "\n",
        "    prob_count +=1    \n",
        "    user_count_dic[problemKey] = user_count+1\n",
        "    problem_key_dic[problemKey] = dic\n",
        "    master_dic = {'problemSkills':{},'userSkills':{}}\n",
        "      \n",
        "  for problemKey in student_solutions.keys():\n",
        "    for userKey in student_solutions[problemKey].keys():\n",
        "      src = student_solutions[problemKey][userKey]\n",
        "      analysis = code_features(ast.parse(src)) \n",
        "      newUserFeatures = {\n",
        "          \"statements\":{},\n",
        "          \"functions\":{},\n",
        "          \"imports\":{},\n",
        "          \"expressions\":{}    \n",
        "        }\n",
        "      master_dic[\"userSkills\"][userKey] = master_dic[\"userSkills\"].get(userKey, newUserFeatures)\n",
        "      for key in analysis: \n",
        "        if key in master_dic[\"userSkills\"][userKey]:\n",
        "          for things in analysis[key]:\n",
        "            if things not in master_dic[\"userSkills\"][userKey][key]:\n",
        "              master_dic[\"userSkills\"][userKey][key].update({things:{problemKey:True}})\n",
        "            else:\n",
        "              master_dic[\"userSkills\"][userKey][key][things].update({problemKey:True})\n",
        "        else: \n",
        "          print(\"Why was key missing?\", key)\n",
        "      newUserFeatures = {\n",
        "          \"statements\":{},\n",
        "          \"functions\":{},\n",
        "          \"imports\":{},\n",
        "          \"expressions\":{}    \n",
        "        }  \n",
        "      master_dic[\"problemSkills\"][problemKey] = master_dic[\"problemSkills\"].get(problemKey, newUserFeatures)\n",
        "      for key in analysis: \n",
        "        if key in master_dic[\"problemSkills\"][problemKey]:\n",
        "          for features in analysis[key]:\n",
        "            if features not in master_dic[\"problemSkills\"][problemKey][key]:\n",
        "              master_dic[\"problemSkills\"][problemKey][key].update({features:{userKey:True}})\n",
        "            else: \n",
        "              master_dic[\"problemSkills\"][problemKey][key][features].update({userKey:True})\n",
        "          \n",
        "  return master_dic\n",
        "  \n",
        "master_dic = getSolutionFeatures(getPathSol(problemSolutions_data))\n"
      ],
      "execution_count": 33,
      "outputs": []
    },
    {
      "metadata": {
        "id": "CRjVxpT1fYLh",
        "colab_type": "code",
        "colab": {
          "base_uri": "https://localhost:8080/",
          "height": 35
        },
        "outputId": "d34dc303-1b95-4563-e9e5-6271d7a4f5cd"
      },
      "cell_type": "code",
      "source": [
        "#get the problem percentagees\n",
        "def getProblemPercentiles(master_dic,student_solutions):\n",
        "  #featureProblemPercentiles -> featureType -> feature -> problemKey -> percentage -> 0.76\n",
        "  \n",
        "  #get user count first\n",
        "  user_count_dic = {}\n",
        "  for problemKey in student_solutions:\n",
        "    user_count = 0 \n",
        "    for userKey in student_solutions[problemKey]:\n",
        "        user_count += 1\n",
        "      \n",
        "    user_count_dic[problemKey] = user_count\n",
        "  print(user_count_dic)  \n",
        "  \n",
        "    \n",
        "  featureProblemPercentiles = {}\n",
        "  for problemKey in master_dic[\"problemSkills\"]:\n",
        "    for featureType in master_dic[\"problemSkills\"][problemKey]:\n",
        "      for features in master_dic[\"problemSkills\"][problemKey][featureType]:\n",
        "        if featureType not in featureProblemPercentiles:\n",
        "          featureProblemPercentiles[featureType] = {}\n",
        "        if features not in featureProblemPercentiles[featureType]:\n",
        "          featureProblemPercentiles[featureType][features] = {}\n",
        "        if problemKey not in featureProblemPercentiles[featureType][features]:\n",
        "          featureProblemPercentiles[featureType][features][problemKey] = 0\n",
        "                \n",
        "        feature_count = len(master_dic[\"problemSkills\"][problemKey][featureType][features])\n",
        "        \n",
        "        user_count = user_count_dic[problemKey]\n",
        "\n",
        "        percentage = feature_count/user_count*100\n",
        "        \n",
        "        featureProblemPercentiles[featureType][features][problemKey] = percentage\n",
        "  return featureProblemPercentiles\n",
        "        \n",
        "        \n",
        "      \n",
        "  \n",
        "featureProblemPercentiles = getProblemPercentiles(master_dic,getPathSol(problemSolutions_data))\n",
        "sorted_percentage = {}\n",
        "\n",
        "for featureType in featureProblemPercentiles:\n",
        "  for feature in featureProblemPercentiles[featureType]:\n",
        "    for problemKey in featureProblemPercentiles[featureType][feature]:\n",
        "      if featureType not in sorted_percentage:\n",
        "        sorted_percentage[featureType] = {}\n",
        "      if feature not in sorted_percentage[featureType]:\n",
        "        sorted_percentage[featureType][feature] = []\n",
        "      \n",
        "      sorted_percentage[featureType][feature] = sorted(featureProblemPercentiles[featureType][feature].items(), key=lambda x: x[1],reverse=True)\n"
      ],
      "execution_count": 34,
      "outputs": [
        {
          "output_type": "stream",
          "text": [
            "{'-LEgrNOmnWsFkr6nFHwO': 7, '-LErQu5eewtUxJVx38hz': 3, '-LErUlHo9-D88pPKcl3G': 2, '-LFGnH4PCK-nJ_ehFSLm': 1, '-LFGoFBJ7Ot4oC_jqfqD': 3}\n"
          ],
          "name": "stdout"
        }
      ]
    },
    {
      "metadata": {
        "id": "sT5ULhaffYLl",
        "colab_type": "code",
        "colab": {
          "base_uri": "https://localhost:8080/",
          "height": 37
        },
        "outputId": "dac562fc-82b3-4cd5-d17d-72e838616db8"
      },
      "cell_type": "code",
      "source": [
        "def getFeatureRanking(master_dic):\n",
        "  #featureRanking -> {“featureType”:a, “feature”:b, “userCount”:c} \n",
        "  #userSkills-> UserKey -> featureType -> feature -> problemKey -> True\n",
        "  \n",
        "  content = []\n",
        "  #get userCount\n",
        "  usercount = {}\n",
        "  for userKey in master_dic[\"userSkills\"]:\n",
        "    for featureType in master_dic[\"userSkills\"][userKey]:\n",
        "      for features in master_dic[\"userSkills\"][userKey][featureType]:\n",
        "        if features not in usercount:\n",
        "          usercount.update({features:1})\n",
        "        else:\n",
        "           usercount[features] = usercount[features]+1\n",
        "\n",
        "        \n",
        "  for userKey in master_dic[\"userSkills\"]:\n",
        "    for featureType in master_dic[\"userSkills\"][userKey]:\n",
        "      for features in master_dic[\"userSkills\"][userKey][featureType]:\n",
        "        \n",
        "        featureRanking = {}\n",
        "        featureRanking[\"featureType\"] = featureType\n",
        "        featureRanking[\"feature\"] = features\n",
        "        featureRanking[\"userCount\"] = usercount[features]\n",
        "        content.append(featureRanking)\n",
        "  \n",
        "  final_ranking = []\n",
        "  for things in content:\n",
        "    if things not in final_ranking:\n",
        "      final_ranking.append(things)\n",
        "      \n",
        "  return sorted(final_ranking, key=lambda k: k['userCount'],reverse=True)\n",
        "\n",
        "\n",
        "featureRanking = getFeatureRanking(master_dic)"
      ],
      "execution_count": 35,
      "outputs": []
    },
    {
      "metadata": {
        "id": "y_lkKH_BfYLo",
        "colab_type": "code",
        "colab": {
          "base_uri": "https://localhost:8080/",
          "height": 37
        },
        "outputId": "c5413724-512e-4b1f-9463-138b245b7650"
      },
      "cell_type": "code",
      "source": [
        "def getMissingFeatures(master_dic, featureRanking):\n",
        "  recommendations = {}\n",
        "  for things in featureRanking:\n",
        "    for userKey in master_dic['userSkills']:\n",
        "      flag = False\n",
        "      for featureType in master_dic['userSkills'][userKey]:\n",
        "          if things['featureType'] == featureType:\n",
        "            if things['feature'] in master_dic['userSkills'][userKey][featureType]:\n",
        "              flag = True\n",
        "      if not flag:\n",
        "        if userKey not in recommendations:\n",
        "          recommendations.update({userKey:[things]})\n",
        "        else:\n",
        "          recommendations[userKey].append(things)\n",
        "          \n",
        "          \n",
        "  return recommendations\n",
        "\n",
        "recos = getMissingFeatures(master_dic,featureRanking)\n",
        "for userKey in recos:\n",
        "    recos[userKey] = recos[userKey][:2]"
      ],
      "execution_count": 36,
      "outputs": []
    },
    {
      "metadata": {
        "id": "21bWI4RLhEtI",
        "colab_type": "code",
        "colab": {
          "base_uri": "https://localhost:8080/",
          "height": 55
        },
        "outputId": "27db902c-6a26-4992-9ef1-98047c78b1ca"
      },
      "cell_type": "code",
      "source": [
        "  '''nextRecommendations -> userKey -> {\n",
        "“lastUpdated”: TIMESTAMP,\n",
        "“problems”: [\n",
        " { “featureType”:aa, “feature”: a, “likelihood”:76,'problemKey':}, \n",
        "{ “featureType”:bb, “feature“:b, likelihood”:70,'problemKey':}, \n",
        "{ “featureType”:cc, “feature”:c, “likelihood”:60,'problemKey':}, \n",
        "]'''\n",
        "#featureProblemPercentiles -> featureType -> feature -> problemKey -> percentage -> 0.76\n",
        "def userProblem(master_dic):\n",
        "    userProblemKey = {}\n",
        "    for userKey in master_dic['userSkills']:\n",
        "      for featureType in master_dic['userSkills'][userKey]:\n",
        "        for feature in master_dic['userSkills'][userKey][featureType]:\n",
        "          for problemKey in master_dic['userSkills'][userKey][featureType][feature]:\n",
        "            if userKey not in userProblemKey:\n",
        "              userProblemKey[userKey] = []\n",
        "            if problemKey not in userProblemKey[userKey]:\n",
        "              userProblemKey[userKey].append(problemKey)\n",
        "    return userProblemKey\n",
        "\n",
        "userProblemKey = userProblem(master_dic)\n",
        "\n",
        "    \n",
        "def getProblemRecos(recos,sorted_percentage):\n",
        "    nextRecommendations = {}\n",
        "    \n",
        "    for userKey in recos:\n",
        "      if userKey not in nextRecommendations:\n",
        "        nextRecommendations[userKey] = {}\n",
        "      \n",
        "      nextRecommendations[userKey]['lastUpdated'] = ''\n",
        "      \n",
        "      nextRecommendations[userKey]['problems'] = []\n",
        "      for things in recos[userKey]:\n",
        "        nextRecommendations[userKey]['problems'].append(dict(things))\n",
        "      \n",
        "      for index in range(len(nextRecommendations[userKey]['problems'])):\n",
        "\n",
        "        nextRecommendations[userKey]['problems'][index]['solvedFeatureProblems'] = {}\n",
        "        nextRecommendations[userKey]['problems'][index]['percentage'] = 0\n",
        "        nextRecommendations[userKey]['problems'][index]['problem'] = 'null'\n",
        "        feature = nextRecommendations[userKey]['problems'][index]['feature']\n",
        "        featureType = nextRecommendations[userKey]['problems'][index]['featureType']\n",
        "        \n",
        "        for count in range(len(sorted_percentage[featureType][feature])):\n",
        "          if sorted_percentage[featureType][feature][count][0] in userProblemKey[userKey]:\n",
        "            \n",
        "            if sorted_percentage[featureType][feature][count][0] not in nextRecommendations[userKey]['problems'][index]['solvedFeatureProblems']:\n",
        "               \n",
        "              nextRecommendations[userKey]['problems'][index]['solvedFeatureProblems'].update({sorted_percentage[featureType][feature][count][0]:\n",
        "                                                                                              sorted_percentage[featureType][feature][count][1]})\n",
        "              \n",
        "          else:\n",
        "            nextRecommendations[userKey]['problems'][index]['percentage'] = sorted_percentage[featureType][feature][count][1]\n",
        "            nextRecommendations[userKey]['problems'][index]['problem'] = sorted_percentage[featureType][feature][count][0]\n",
        "            break\n",
        "         \n",
        "                        \n",
        "         \n",
        "\n",
        "    return nextRecommendations\n",
        "\n",
        "\n",
        "nextRecommendations = getProblemRecos(recos,sorted_percentage)  \n",
        "print(nextRecommendations)\n",
        "\n"
      ],
      "execution_count": 37,
      "outputs": [
        {
          "output_type": "stream",
          "text": [
            "{'ms3bbFtcuXN9ha7t8Ef2b3YBdVT2': {'lastUpdated': '', 'problems': [{'featureType': 'statements', 'feature': 'Return', 'userCount': 6, 'solvedFeatureProblems': {}, 'percentage': 100.0, 'problem': '-LErQu5eewtUxJVx38hz'}, {'featureType': 'functions', 'feature': '.values', 'userCount': 5, 'solvedFeatureProblems': {'-LEgrNOmnWsFkr6nFHwO': 71.42857142857143}, 'percentage': 0, 'problem': 'null'}]}, '0uB55jXtOnQUtFffPYK1aGLiZO33': {'lastUpdated': '', 'problems': [{'featureType': 'functions', 'feature': 'list', 'userCount': 6, 'solvedFeatureProblems': {}, 'percentage': 100.0, 'problem': '-LErUlHo9-D88pPKcl3G'}, {'featureType': 'statements', 'feature': 'If', 'userCount': 2, 'solvedFeatureProblems': {}, 'percentage': 66.66666666666666, 'problem': '-LErQu5eewtUxJVx38hz'}]}, 'eVJVC9kde3QSiXAP989kivD9SZn2': {'lastUpdated': '', 'problems': [{'featureType': 'functions', 'feature': '.values', 'userCount': 5, 'solvedFeatureProblems': {'-LEgrNOmnWsFkr6nFHwO': 71.42857142857143}, 'percentage': 0, 'problem': 'null'}, {'featureType': 'expressions', 'feature': '+', 'userCount': 2, 'solvedFeatureProblems': {}, 'percentage': 66.66666666666666, 'problem': '-LFGoFBJ7Ot4oC_jqfqD'}]}, '3MBpk3DgmXTJeKqVTEq3vi4bpML2': {'lastUpdated': '', 'problems': [{'featureType': 'statements', 'feature': 'For', 'userCount': 2, 'solvedFeatureProblems': {'-LEgrNOmnWsFkr6nFHwO': 28.57142857142857}, 'percentage': 0, 'problem': 'null'}, {'featureType': 'functions', 'feature': '.append', 'userCount': 2, 'solvedFeatureProblems': {'-LEgrNOmnWsFkr6nFHwO': 28.57142857142857}, 'percentage': 0, 'problem': 'null'}]}, '9D72RQCGQadyNE83vqvTNukk7Fz2': {'lastUpdated': '', 'problems': [{'featureType': 'statements', 'feature': 'For', 'userCount': 2, 'solvedFeatureProblems': {'-LEgrNOmnWsFkr6nFHwO': 28.57142857142857}, 'percentage': 0, 'problem': 'null'}, {'featureType': 'functions', 'feature': '.append', 'userCount': 2, 'solvedFeatureProblems': {'-LEgrNOmnWsFkr6nFHwO': 28.57142857142857}, 'percentage': 0, 'problem': 'null'}]}, 'OVkIA2ZkVbVCtzU9x1dHEVnvK8x1': {'lastUpdated': '', 'problems': [{'featureType': 'statements', 'feature': 'For', 'userCount': 2, 'solvedFeatureProblems': {'-LEgrNOmnWsFkr6nFHwO': 28.57142857142857}, 'percentage': 0, 'problem': 'null'}, {'featureType': 'functions', 'feature': '.append', 'userCount': 2, 'solvedFeatureProblems': {'-LEgrNOmnWsFkr6nFHwO': 28.57142857142857}, 'percentage': 0, 'problem': 'null'}]}, 'TOT2Pe5KKIe8QufgPxM2S22VqHv1': {'lastUpdated': '', 'problems': [{'featureType': 'statements', 'feature': 'For', 'userCount': 2, 'solvedFeatureProblems': {'-LEgrNOmnWsFkr6nFHwO': 28.57142857142857}, 'percentage': 0, 'problem': 'null'}, {'featureType': 'functions', 'feature': '.append', 'userCount': 2, 'solvedFeatureProblems': {'-LEgrNOmnWsFkr6nFHwO': 28.57142857142857}, 'percentage': 0, 'problem': 'null'}]}}\n"
          ],
          "name": "stdout"
        }
      ]
    },
    {
      "metadata": {
        "id": "11nJnh_iVqKo",
        "colab_type": "code",
        "colab": {
          "base_uri": "https://localhost:8080/",
          "height": 37
        },
        "outputId": "06fd69de-c9b3-46a0-9bb7-06bcde56677e"
      },
      "cell_type": "code",
      "source": [
        "def doAllLongCode(master_dic):\n",
        "  combined_output = {}\n",
        "  \n",
        "  ## first block:\n",
        "  str = \"\"\"\n",
        "import sys\n",
        "import os\n",
        "def f1(l):\n",
        "      l.reverse()\n",
        "      reverse(l)\n",
        "      l.sort()\n",
        "      sorted(l)\n",
        "      len(l)\n",
        "      for x in l: \n",
        "          pass\n",
        "      return(l)\"\"\"\n",
        "  tree = ast.parse(str)\n",
        "  tree\n",
        "  exec(compile(tree, filename=\"<ast>\", mode = \"exec\"))\n",
        "  \n",
        "  ## 2nd block to 6th block\n",
        "  \n",
        "  ## 8th block\n",
        "  featureProblemPercentiles = getProblemPercentiles(master_dic,getPathSol(problemSolutions_data))\n",
        "  sorted_percentage = {}\n",
        "\n",
        "  for featureType in featureProblemPercentiles:\n",
        "    for feature in featureProblemPercentiles[featureType]:\n",
        "      for problemKey in featureProblemPercentiles[featureType][feature]:\n",
        "        if featureType not in sorted_percentage:\n",
        "          sorted_percentage[featureType] = {}\n",
        "        if feature not in sorted_percentage[featureType]:\n",
        "          sorted_percentage[featureType][feature] = []\n",
        "\n",
        "        sorted_percentage[featureType][feature] = sorted(featureProblemPercentiles[featureType][feature].items(), key=lambda x: x[1],reverse=True)\n",
        "        \n",
        "  ## 9th block\n",
        "  featureRanking = getFeatureRanking(master_dic)\n",
        "  \n",
        "  ## 10th block\n",
        "  recos = getMissingFeatures(master_dic,featureRanking)\n",
        "  for userKey in recos:\n",
        "      recos[userKey] = recos[userKey][:2]\n",
        "      \n",
        "  ## 11th block\n",
        "  userProblemKey = userProblem(master_dic)\n",
        "  \n",
        "  nextRecommendations = getProblemRecos(recos,sorted_percentage) \n",
        "  \n",
        "  ## putting together into combined_output to return\n",
        "  combined_output['fpp'] = featureProblemPercentiles\n",
        "  combined_output['featRank'] = featureRanking\n",
        "  combined_output['userReco'] = nextRecommendations\n",
        "  \n",
        "  return combined_output"
      ],
      "execution_count": 56,
      "outputs": []
    },
    {
      "metadata": {
        "id": "24EaX_XtfJ6Y",
        "colab_type": "text"
      },
      "cell_type": "markdown",
      "source": [
        "# END OF CODE TO GET RECOMMENDATIONS\n",
        "\n",
        "\n",
        "---\n",
        "\n"
      ]
    },
    {
      "metadata": {
        "id": "Td180SSlCPu6",
        "colab_type": "text"
      },
      "cell_type": "markdown",
      "source": [
        "### Recommendations:\n",
        "1. problemSkills\n",
        "2. userSkills\n",
        "3. featureProblemPercentiles\n",
        "4. featureRanking\n",
        "5. nextRecommendations"
      ]
    },
    {
      "metadata": {
        "id": "Rsn8lGrwBjOF",
        "colab_type": "code",
        "colab": {
          "base_uri": "https://localhost:8080/",
          "height": 55
        },
        "outputId": "a7122b7d-ff7b-4af3-aadc-4dd02df8df49"
      },
      "cell_type": "code",
      "source": [
        "# Executing lambda function (AST Parsing) on the formatted data to retrieve processed data (for courses)\n",
        "\n",
        "\"\"\"\n",
        "url = \"https://9dq7wcv20e.execute-api.us-west-2.amazonaws.com/dev/yrtest2\"\n",
        "theSolutions = getCourseSol(solutions_data)\n",
        "resp = requests.post(url=url, json=theSolutions)\n",
        "returned = json.loads(resp.text)\n",
        "\"\"\""
      ],
      "execution_count": 39,
      "outputs": [
        {
          "output_type": "execute_result",
          "data": {
            "text/plain": [
              "'\\nurl = \"https://9dq7wcv20e.execute-api.us-west-2.amazonaws.com/dev/yrtest2\"\\ntheSolutions = getCourseSol(solutions_data)\\nresp = requests.post(url=url, json=theSolutions)\\nreturned = json.loads(resp.text)\\n'"
            ]
          },
          "metadata": {
            "tags": []
          },
          "execution_count": 39
        }
      ]
    },
    {
      "metadata": {
        "id": "VYSIRqodaU_9",
        "colab_type": "code",
        "colab": {
          "base_uri": "https://localhost:8080/",
          "height": 55
        },
        "outputId": "cc52408b-58d4-4669-a088-cae7808de3a3"
      },
      "cell_type": "code",
      "source": [
        "# Executing lambda function (AST Parsing) on the formatted data to retrieve processed data (for paths)\n",
        "\n",
        "url = \"https://9dq7wcv20e.execute-api.us-west-2.amazonaws.com/dev/yrtest2\"\n",
        "theSolutions = getPathSol(problemSolutions_data)\n",
        "resp = requests.post(url=url, json=theSolutions)\n",
        "returned2 = json.loads(resp.text)\n",
        "\n",
        "print(returned2)"
      ],
      "execution_count": 40,
      "outputs": [
        {
          "output_type": "stream",
          "text": [
            "{'problemSkills': {'-LEgrNOmnWsFkr6nFHwO': {'statements': {'For': {'0uB55jXtOnQUtFffPYK1aGLiZO33': True, 'eVJVC9kde3QSiXAP989kivD9SZn2': True}, 'Return': {'0uB55jXtOnQUtFffPYK1aGLiZO33': True, '3MBpk3DgmXTJeKqVTEq3vi4bpML2': True, '9D72RQCGQadyNE83vqvTNukk7Fz2': True, 'OVkIA2ZkVbVCtzU9x1dHEVnvK8x1': True, 'TOT2Pe5KKIe8QufgPxM2S22VqHv1': True, 'eVJVC9kde3QSiXAP989kivD9SZn2': True}}, 'functions': {'-values': {'0uB55jXtOnQUtFffPYK1aGLiZO33': True, '3MBpk3DgmXTJeKqVTEq3vi4bpML2': True, '9D72RQCGQadyNE83vqvTNukk7Fz2': True, 'OVkIA2ZkVbVCtzU9x1dHEVnvK8x1': True, 'TOT2Pe5KKIe8QufgPxM2S22VqHv1': True}, '-append': {'0uB55jXtOnQUtFffPYK1aGLiZO33': True, 'eVJVC9kde3QSiXAP989kivD9SZn2': True}, 'list': {'3MBpk3DgmXTJeKqVTEq3vi4bpML2': True, '9D72RQCGQadyNE83vqvTNukk7Fz2': True, 'OVkIA2ZkVbVCtzU9x1dHEVnvK8x1': True, 'TOT2Pe5KKIe8QufgPxM2S22VqHv1': True, 'ms3bbFtcuXN9ha7t8Ef2b3YBdVT2': True}}}, '-LErQu5eewtUxJVx38hz': {'statements': {'If': {'OVkIA2ZkVbVCtzU9x1dHEVnvK8x1': True, 'eVJVC9kde3QSiXAP989kivD9SZn2': True}, 'Return': {'OVkIA2ZkVbVCtzU9x1dHEVnvK8x1': True, 'TOT2Pe5KKIe8QufgPxM2S22VqHv1': True, 'eVJVC9kde3QSiXAP989kivD9SZn2': True}}, 'functions': {'-find': {'OVkIA2ZkVbVCtzU9x1dHEVnvK8x1': True}, 'list': {'eVJVC9kde3QSiXAP989kivD9SZn2': True}}}, '-LErUlHo9-D88pPKcl3G': {'statements': {'Return': {'OVkIA2ZkVbVCtzU9x1dHEVnvK8x1': True, 'TOT2Pe5KKIe8QufgPxM2S22VqHv1': True}}, 'functions': {'list': {'OVkIA2ZkVbVCtzU9x1dHEVnvK8x1': True, 'TOT2Pe5KKIe8QufgPxM2S22VqHv1': True}, 'tuple': {'OVkIA2ZkVbVCtzU9x1dHEVnvK8x1': True, 'TOT2Pe5KKIe8QufgPxM2S22VqHv1': True}}, 'expressions': {'-': {'OVkIA2ZkVbVCtzU9x1dHEVnvK8x1': True, 'TOT2Pe5KKIe8QufgPxM2S22VqHv1': True}}}, '-LFGoFBJ7Ot4oC_jqfqD': {'statements': {'Return': {'0uB55jXtOnQUtFffPYK1aGLiZO33': True, 'OVkIA2ZkVbVCtzU9x1dHEVnvK8x1': True, 'TOT2Pe5KKIe8QufgPxM2S22VqHv1': True}}, 'expressions': {'+': {'0uB55jXtOnQUtFffPYK1aGLiZO33': True, 'OVkIA2ZkVbVCtzU9x1dHEVnvK8x1': True}}, 'functions': {'-join': {'TOT2Pe5KKIe8QufgPxM2S22VqHv1': True}}}}, 'userSkills': {'0uB55jXtOnQUtFffPYK1aGLiZO33': {'statements': {'For': {'-LEgrNOmnWsFkr6nFHwO': True}, 'Return': {'-LEgrNOmnWsFkr6nFHwO': True, '-LFGoFBJ7Ot4oC_jqfqD': True}}, 'functions': {'-values': {'-LEgrNOmnWsFkr6nFHwO': True}, '-append': {'-LEgrNOmnWsFkr6nFHwO': True}}, 'expressions': {'+': {'-LFGoFBJ7Ot4oC_jqfqD': True}}}, '3MBpk3DgmXTJeKqVTEq3vi4bpML2': {'statements': {'Return': {'-LEgrNOmnWsFkr6nFHwO': True}}, 'functions': {'list': {'-LEgrNOmnWsFkr6nFHwO': True}, '-values': {'-LEgrNOmnWsFkr6nFHwO': True}}}, '9D72RQCGQadyNE83vqvTNukk7Fz2': {'statements': {'Return': {'-LEgrNOmnWsFkr6nFHwO': True}}, 'functions': {'list': {'-LEgrNOmnWsFkr6nFHwO': True}, '-values': {'-LEgrNOmnWsFkr6nFHwO': True}}}, 'OVkIA2ZkVbVCtzU9x1dHEVnvK8x1': {'statements': {'Return': {'-LEgrNOmnWsFkr6nFHwO': True, '-LErQu5eewtUxJVx38hz': True, '-LErUlHo9-D88pPKcl3G': True, '-LFGoFBJ7Ot4oC_jqfqD': True}, 'If': {'-LErQu5eewtUxJVx38hz': True}}, 'functions': {'list': {'-LEgrNOmnWsFkr6nFHwO': True, '-LErUlHo9-D88pPKcl3G': True}, '-values': {'-LEgrNOmnWsFkr6nFHwO': True}, '-find': {'-LErQu5eewtUxJVx38hz': True}, 'tuple': {'-LErUlHo9-D88pPKcl3G': True}}, 'expressions': {'-': {'-LErUlHo9-D88pPKcl3G': True}, '+': {'-LFGoFBJ7Ot4oC_jqfqD': True}}}, 'TOT2Pe5KKIe8QufgPxM2S22VqHv1': {'statements': {'Return': {'-LEgrNOmnWsFkr6nFHwO': True, '-LErQu5eewtUxJVx38hz': True, '-LErUlHo9-D88pPKcl3G': True, '-LFGoFBJ7Ot4oC_jqfqD': True}}, 'functions': {'list': {'-LEgrNOmnWsFkr6nFHwO': True, '-LErUlHo9-D88pPKcl3G': True}, '-values': {'-LEgrNOmnWsFkr6nFHwO': True}, 'tuple': {'-LErUlHo9-D88pPKcl3G': True}, '-join': {'-LFGoFBJ7Ot4oC_jqfqD': True}}, 'expressions': {'-': {'-LErUlHo9-D88pPKcl3G': True}}}, 'eVJVC9kde3QSiXAP989kivD9SZn2': {'statements': {'For': {'-LEgrNOmnWsFkr6nFHwO': True}, 'Return': {'-LEgrNOmnWsFkr6nFHwO': True, '-LErQu5eewtUxJVx38hz': True}, 'If': {'-LErQu5eewtUxJVx38hz': True}}, 'functions': {'-append': {'-LEgrNOmnWsFkr6nFHwO': True}, 'list': {'-LErQu5eewtUxJVx38hz': True}}}, 'ms3bbFtcuXN9ha7t8Ef2b3YBdVT2': {'functions': {'list': {'-LEgrNOmnWsFkr6nFHwO': True}}}}}\n"
          ],
          "name": "stdout"
        }
      ]
    },
    {
      "metadata": {
        "id": "xQfXKSZ8evs0",
        "colab_type": "text"
      },
      "cell_type": "markdown",
      "source": [
        "### Formatting original featureProblemPercentiles"
      ]
    },
    {
      "metadata": {
        "id": "ZzNhvaAP7kQD",
        "colab_type": "code",
        "colab": {
          "base_uri": "https://localhost:8080/",
          "height": 55
        },
        "outputId": "bc48b8d0-d034-410d-e173-b09618ed677c"
      },
      "cell_type": "code",
      "source": [
        "########################## FOR FPP #####################################\n",
        "temp_fpp = featureProblemPercentiles\n",
        "\n",
        "def formatOriginalFPP(original): \n",
        "  fpp = {}\n",
        "  for i in original:\n",
        "    for feat in original[i]:\n",
        "      if feat[0] == '.':\n",
        "        new_feat = '-'+feat[1:]\n",
        "        fpp[new_feat+\"_\"+i] = {}\n",
        "      else:\n",
        "        fpp[feat+\"_\"+i] = {}\n",
        "      for qns in original[i][feat]:\n",
        "        # can just use new_feat here but only when i make sure feat originally started with '.'\n",
        "        if feat[0] == \".\":\n",
        "          fpp[new_feat+\"_\"+i][qns] = {}\n",
        "          fpp[new_feat+\"_\"+i][qns][\"feature\"] = new_feat\n",
        "          fpp[new_feat+\"_\"+i][qns][\"featureType\"] = i\n",
        "          fpp[new_feat+\"_\"+i][qns][\"percentage\"] = original[i][feat][qns]\n",
        "\n",
        "        else:\n",
        "          fpp[feat+\"_\"+i][qns] = {}\n",
        "          fpp[feat+\"_\"+i][qns][\"feature\"] = feat\n",
        "          fpp[feat+\"_\"+i][qns][\"featureType\"] = i\n",
        "          fpp[feat+\"_\"+i][qns][\"percentage\"] = original[i][feat][qns]\n",
        "  return fpp\n",
        "\n",
        "print(formatOriginalFPP(temp_fpp))"
      ],
      "execution_count": 41,
      "outputs": [
        {
          "output_type": "stream",
          "text": [
            "{'For_statements': {'-LEgrNOmnWsFkr6nFHwO': {'feature': 'For', 'featureType': 'statements', 'percentage': 28.57142857142857}}, 'Return_statements': {'-LEgrNOmnWsFkr6nFHwO': {'feature': 'Return', 'featureType': 'statements', 'percentage': 85.71428571428571}, '-LErQu5eewtUxJVx38hz': {'feature': 'Return', 'featureType': 'statements', 'percentage': 100.0}, '-LErUlHo9-D88pPKcl3G': {'feature': 'Return', 'featureType': 'statements', 'percentage': 100.0}, '-LFGoFBJ7Ot4oC_jqfqD': {'feature': 'Return', 'featureType': 'statements', 'percentage': 100.0}}, 'If_statements': {'-LErQu5eewtUxJVx38hz': {'feature': 'If', 'featureType': 'statements', 'percentage': 66.66666666666666}}, '-values_functions': {'-LEgrNOmnWsFkr6nFHwO': {'feature': '-values', 'featureType': 'functions', 'percentage': 71.42857142857143}}, '-append_functions': {'-LEgrNOmnWsFkr6nFHwO': {'feature': '-append', 'featureType': 'functions', 'percentage': 28.57142857142857}}, 'list_functions': {'-LEgrNOmnWsFkr6nFHwO': {'feature': 'list', 'featureType': 'functions', 'percentage': 71.42857142857143}, '-LErQu5eewtUxJVx38hz': {'feature': 'list', 'featureType': 'functions', 'percentage': 33.33333333333333}, '-LErUlHo9-D88pPKcl3G': {'feature': 'list', 'featureType': 'functions', 'percentage': 100.0}}, '-find_functions': {'-LErQu5eewtUxJVx38hz': {'feature': '-find', 'featureType': 'functions', 'percentage': 33.33333333333333}}, 'tuple_functions': {'-LErUlHo9-D88pPKcl3G': {'feature': 'tuple', 'featureType': 'functions', 'percentage': 100.0}}, '-join_functions': {'-LFGoFBJ7Ot4oC_jqfqD': {'feature': '-join', 'featureType': 'functions', 'percentage': 33.33333333333333}}, '-_expressions': {'-LErUlHo9-D88pPKcl3G': {'feature': '-', 'featureType': 'expressions', 'percentage': 100.0}}, '+_expressions': {'-LFGoFBJ7Ot4oC_jqfqD': {'feature': '+', 'featureType': 'expressions', 'percentage': 66.66666666666666}}}\n"
          ],
          "name": "stdout"
        }
      ]
    },
    {
      "metadata": {
        "id": "BPjvziZPezyH",
        "colab_type": "text"
      },
      "cell_type": "markdown",
      "source": [
        "### Formatting original featureRanking"
      ]
    },
    {
      "metadata": {
        "id": "CiLoADVRGtnR",
        "colab_type": "code",
        "colab": {
          "base_uri": "https://localhost:8080/",
          "height": 37
        },
        "outputId": "ad815edf-6b48-4459-82f1-a82ce50c02bb"
      },
      "cell_type": "code",
      "source": [
        "############################## FOR FEATURERANKING ###############################\n",
        "temp_featRank = featureRanking\n",
        "\n",
        "def formatOriginalFeatRank(original):\n",
        "  ## Change . to -\n",
        "  for item in original:\n",
        "    for feat in item['feature']:\n",
        "      if feat[0] == '.':\n",
        "        new_feat = '-'+feat[1:]\n",
        "        item['feature'] = new_feat\n",
        "\n",
        "  ## change to {feature_featureType: usercount})\n",
        "  featRank = {}\n",
        "  for item in original:\n",
        "    newkey = item[\"feature\"]+'_'+item[\"featureType\"]\n",
        "    featRank[newkey] = {}\n",
        "    featRank[newkey][\"feature\"] = item[\"feature\"]\n",
        "    featRank[newkey][\"featureType\"] = item[\"featureType\"]\n",
        "    featRank[newkey][\"userCount\"] = item[\"userCount\"]\n",
        "  return featRank"
      ],
      "execution_count": 42,
      "outputs": []
    },
    {
      "metadata": {
        "id": "yhdYX8-_6fWo",
        "colab_type": "text"
      },
      "cell_type": "markdown",
      "source": [
        "### Formatting original nextRecommendations\n",
        "\n"
      ]
    },
    {
      "metadata": {
        "id": "9f-UwxGH6kvJ",
        "colab_type": "code",
        "colab": {
          "base_uri": "https://localhost:8080/",
          "height": 55
        },
        "outputId": "9c5f7f49-0604-47b3-bcd6-218d7eac7b6b"
      },
      "cell_type": "code",
      "source": [
        "### TO ADD TO LAMBDA FUNCTION: --> need to cfm if we want to pull data out from firebase with the lambda function\n",
        "\n",
        "nextReco = nextRecommendations\n",
        "\n",
        "######################### FOR NEXTRECOMMENDATIONS ###############################\n",
        "\n",
        "def formatOriginalReco(original):\n",
        "  userReco = {}\n",
        "\n",
        "  for user in original:\n",
        "    userReco[user] = {}\n",
        "    userReco[user]['lastUpdated'] = original[user]['lastUpdated']\n",
        "    userReco[user]['rankOrder'] = {}\n",
        "    userReco[user]['problems'] = {}\n",
        "    for feature in original[user]['problems']:\n",
        "      userReco[user]['problems'] \n",
        "      probkey = feature['problem']\n",
        "      pathkey = getPathID(probkey, problems_data)\n",
        "\n",
        "      if feature['feature'][0] == '.':\n",
        "        new_feat = '-' + feature['feature'][1:] + '_' + feature['featureType']\n",
        "        userReco[user]['problems'][new_feat] = feature\n",
        "        userReco[user]['problems'][new_feat]['path'] = pathkey\n",
        "      else:\n",
        "        new_feat = feature['feature'] + '_' + feature['featureType']\n",
        "        userReco[user]['problems'][new_feat] = feature\n",
        "        userReco[user]['problems'][new_feat]['path'] = pathkey\n",
        "  return userReco\n",
        "\n",
        "print(formatOriginalReco(nextReco))"
      ],
      "execution_count": 43,
      "outputs": [
        {
          "output_type": "stream",
          "text": [
            "{'ms3bbFtcuXN9ha7t8Ef2b3YBdVT2': {'lastUpdated': '', 'rankOrder': {}, 'problems': {'Return_statements': {'featureType': 'statements', 'feature': 'Return', 'userCount': 6, 'solvedFeatureProblems': {}, 'percentage': 100.0, 'problem': '-LErQu5eewtUxJVx38hz', 'path': '-LEgr4SIfoy5fMPgB03F'}, '-values_functions': {'featureType': 'functions', 'feature': '.values', 'userCount': 5, 'solvedFeatureProblems': {'-LEgrNOmnWsFkr6nFHwO': 71.42857142857143}, 'percentage': 0, 'problem': 'null', 'path': 'null'}}}, '0uB55jXtOnQUtFffPYK1aGLiZO33': {'lastUpdated': '', 'rankOrder': {}, 'problems': {'list_functions': {'featureType': 'functions', 'feature': 'list', 'userCount': 6, 'solvedFeatureProblems': {}, 'percentage': 100.0, 'problem': '-LErUlHo9-D88pPKcl3G', 'path': '-LEgr4SIfoy5fMPgB03F'}, 'If_statements': {'featureType': 'statements', 'feature': 'If', 'userCount': 2, 'solvedFeatureProblems': {}, 'percentage': 66.66666666666666, 'problem': '-LErQu5eewtUxJVx38hz', 'path': '-LEgr4SIfoy5fMPgB03F'}}}, 'eVJVC9kde3QSiXAP989kivD9SZn2': {'lastUpdated': '', 'rankOrder': {}, 'problems': {'-values_functions': {'featureType': 'functions', 'feature': '.values', 'userCount': 5, 'solvedFeatureProblems': {'-LEgrNOmnWsFkr6nFHwO': 71.42857142857143}, 'percentage': 0, 'problem': 'null', 'path': 'null'}, '+_expressions': {'featureType': 'expressions', 'feature': '+', 'userCount': 2, 'solvedFeatureProblems': {}, 'percentage': 66.66666666666666, 'problem': '-LFGoFBJ7Ot4oC_jqfqD', 'path': '-LEiB7eBH61VuRTpPm8K'}}}, '3MBpk3DgmXTJeKqVTEq3vi4bpML2': {'lastUpdated': '', 'rankOrder': {}, 'problems': {'For_statements': {'featureType': 'statements', 'feature': 'For', 'userCount': 2, 'solvedFeatureProblems': {'-LEgrNOmnWsFkr6nFHwO': 28.57142857142857}, 'percentage': 0, 'problem': 'null', 'path': 'null'}, '-append_functions': {'featureType': 'functions', 'feature': '.append', 'userCount': 2, 'solvedFeatureProblems': {'-LEgrNOmnWsFkr6nFHwO': 28.57142857142857}, 'percentage': 0, 'problem': 'null', 'path': 'null'}}}, '9D72RQCGQadyNE83vqvTNukk7Fz2': {'lastUpdated': '', 'rankOrder': {}, 'problems': {'For_statements': {'featureType': 'statements', 'feature': 'For', 'userCount': 2, 'solvedFeatureProblems': {'-LEgrNOmnWsFkr6nFHwO': 28.57142857142857}, 'percentage': 0, 'problem': 'null', 'path': 'null'}, '-append_functions': {'featureType': 'functions', 'feature': '.append', 'userCount': 2, 'solvedFeatureProblems': {'-LEgrNOmnWsFkr6nFHwO': 28.57142857142857}, 'percentage': 0, 'problem': 'null', 'path': 'null'}}}, 'OVkIA2ZkVbVCtzU9x1dHEVnvK8x1': {'lastUpdated': '', 'rankOrder': {}, 'problems': {'For_statements': {'featureType': 'statements', 'feature': 'For', 'userCount': 2, 'solvedFeatureProblems': {'-LEgrNOmnWsFkr6nFHwO': 28.57142857142857}, 'percentage': 0, 'problem': 'null', 'path': 'null'}, '-append_functions': {'featureType': 'functions', 'feature': '.append', 'userCount': 2, 'solvedFeatureProblems': {'-LEgrNOmnWsFkr6nFHwO': 28.57142857142857}, 'percentage': 0, 'problem': 'null', 'path': 'null'}}}, 'TOT2Pe5KKIe8QufgPxM2S22VqHv1': {'lastUpdated': '', 'rankOrder': {}, 'problems': {'For_statements': {'featureType': 'statements', 'feature': 'For', 'userCount': 2, 'solvedFeatureProblems': {'-LEgrNOmnWsFkr6nFHwO': 28.57142857142857}, 'percentage': 0, 'problem': 'null', 'path': 'null'}, '-append_functions': {'featureType': 'functions', 'feature': '.append', 'userCount': 2, 'solvedFeatureProblems': {'-LEgrNOmnWsFkr6nFHwO': 28.57142857142857}, 'percentage': 0, 'problem': 'null', 'path': 'null'}}}}\n"
          ],
          "name": "stdout"
        }
      ]
    },
    {
      "metadata": {
        "id": "a_-QMBXkjzPo",
        "colab_type": "text"
      },
      "cell_type": "markdown",
      "source": [
        "## Putting things into firebase"
      ]
    },
    {
      "metadata": {
        "id": "OTJocNHKBnmP",
        "colab_type": "code",
        "colab": {
          "base_uri": "https://localhost:8080/",
          "height": 17
        },
        "outputId": "b12d280a-1ec3-4cae-bc1c-6ce60b93f8aa"
      },
      "cell_type": "code",
      "source": [
        "probSkills = returned2[\"problemSkills\"]\n",
        "userSkills = returned2[\"userSkills\"]\n",
        "fpp = formatOriginalFPP(temp_fpp)\n",
        "featRank = formatOriginalFeatRank(temp_featRank)\n",
        "userReco = formatOriginalReco(nextReco)"
      ],
      "execution_count": 48,
      "outputs": []
    },
    {
      "metadata": {
        "id": "y1DCJwETEyeS",
        "colab_type": "code",
        "colab": {
          "base_uri": "https://localhost:8080/",
          "height": 1768
        },
        "outputId": "29dc9bda-221c-472a-dcaa-2e9c7464f96f"
      },
      "cell_type": "code",
      "source": [
        "app.put('/', \"problemSkills\", probSkills)\n",
        "app.put('/', \"userSkills\", userSkills)\n",
        "app.put('/', \"featureProblemPercentiles\", fpp) \n",
        "app.put('/', \"featureRanking\", featRank)\n",
        "app.put('/', \"userRecommendations\", userReco)"
      ],
      "execution_count": 50,
      "outputs": [
        {
          "output_type": "execute_result",
          "data": {
            "text/plain": [
              "{'0uB55jXtOnQUtFffPYK1aGLiZO33': {'lastUpdated': '',\n",
              "  'problems': {'If_statements': {'feature': 'If',\n",
              "    'featureType': 'statements',\n",
              "    'path': '-LEgr4SIfoy5fMPgB03F',\n",
              "    'percentage': 66.66666666666666,\n",
              "    'problem': '-LErQu5eewtUxJVx38hz',\n",
              "    'userCount': 2},\n",
              "   'list_functions': {'feature': 'list',\n",
              "    'featureType': 'functions',\n",
              "    'path': '-LEgr4SIfoy5fMPgB03F',\n",
              "    'percentage': 100.0,\n",
              "    'problem': '-LErUlHo9-D88pPKcl3G',\n",
              "    'userCount': 6}}},\n",
              " '3MBpk3DgmXTJeKqVTEq3vi4bpML2': {'lastUpdated': '',\n",
              "  'problems': {'-append_functions': {'feature': '.append',\n",
              "    'featureType': 'functions',\n",
              "    'path': 'null',\n",
              "    'percentage': 0,\n",
              "    'problem': 'null',\n",
              "    'solvedFeatureProblems': {'-LEgrNOmnWsFkr6nFHwO': 28.57142857142857},\n",
              "    'userCount': 2},\n",
              "   'For_statements': {'feature': 'For',\n",
              "    'featureType': 'statements',\n",
              "    'path': 'null',\n",
              "    'percentage': 0,\n",
              "    'problem': 'null',\n",
              "    'solvedFeatureProblems': {'-LEgrNOmnWsFkr6nFHwO': 28.57142857142857},\n",
              "    'userCount': 2}}},\n",
              " '9D72RQCGQadyNE83vqvTNukk7Fz2': {'lastUpdated': '',\n",
              "  'problems': {'-append_functions': {'feature': '.append',\n",
              "    'featureType': 'functions',\n",
              "    'path': 'null',\n",
              "    'percentage': 0,\n",
              "    'problem': 'null',\n",
              "    'solvedFeatureProblems': {'-LEgrNOmnWsFkr6nFHwO': 28.57142857142857},\n",
              "    'userCount': 2},\n",
              "   'For_statements': {'feature': 'For',\n",
              "    'featureType': 'statements',\n",
              "    'path': 'null',\n",
              "    'percentage': 0,\n",
              "    'problem': 'null',\n",
              "    'solvedFeatureProblems': {'-LEgrNOmnWsFkr6nFHwO': 28.57142857142857},\n",
              "    'userCount': 2}}},\n",
              " 'OVkIA2ZkVbVCtzU9x1dHEVnvK8x1': {'lastUpdated': '',\n",
              "  'problems': {'-append_functions': {'feature': '.append',\n",
              "    'featureType': 'functions',\n",
              "    'path': 'null',\n",
              "    'percentage': 0,\n",
              "    'problem': 'null',\n",
              "    'solvedFeatureProblems': {'-LEgrNOmnWsFkr6nFHwO': 28.57142857142857},\n",
              "    'userCount': 2},\n",
              "   'For_statements': {'feature': 'For',\n",
              "    'featureType': 'statements',\n",
              "    'path': 'null',\n",
              "    'percentage': 0,\n",
              "    'problem': 'null',\n",
              "    'solvedFeatureProblems': {'-LEgrNOmnWsFkr6nFHwO': 28.57142857142857},\n",
              "    'userCount': 2}}},\n",
              " 'TOT2Pe5KKIe8QufgPxM2S22VqHv1': {'lastUpdated': '',\n",
              "  'problems': {'-append_functions': {'feature': '.append',\n",
              "    'featureType': 'functions',\n",
              "    'path': 'null',\n",
              "    'percentage': 0,\n",
              "    'problem': 'null',\n",
              "    'solvedFeatureProblems': {'-LEgrNOmnWsFkr6nFHwO': 28.57142857142857},\n",
              "    'userCount': 2},\n",
              "   'For_statements': {'feature': 'For',\n",
              "    'featureType': 'statements',\n",
              "    'path': 'null',\n",
              "    'percentage': 0,\n",
              "    'problem': 'null',\n",
              "    'solvedFeatureProblems': {'-LEgrNOmnWsFkr6nFHwO': 28.57142857142857},\n",
              "    'userCount': 2}}},\n",
              " 'eVJVC9kde3QSiXAP989kivD9SZn2': {'lastUpdated': '',\n",
              "  'problems': {'+_expressions': {'feature': '+',\n",
              "    'featureType': 'expressions',\n",
              "    'path': '-LEiB7eBH61VuRTpPm8K',\n",
              "    'percentage': 66.66666666666666,\n",
              "    'problem': '-LFGoFBJ7Ot4oC_jqfqD',\n",
              "    'userCount': 2},\n",
              "   '-values_functions': {'feature': '.values',\n",
              "    'featureType': 'functions',\n",
              "    'path': 'null',\n",
              "    'percentage': 0,\n",
              "    'problem': 'null',\n",
              "    'solvedFeatureProblems': {'-LEgrNOmnWsFkr6nFHwO': 71.42857142857143},\n",
              "    'userCount': 5}}},\n",
              " 'ms3bbFtcuXN9ha7t8Ef2b3YBdVT2': {'lastUpdated': '',\n",
              "  'problems': {'-values_functions': {'feature': '.values',\n",
              "    'featureType': 'functions',\n",
              "    'path': 'null',\n",
              "    'percentage': 0,\n",
              "    'problem': 'null',\n",
              "    'solvedFeatureProblems': {'-LEgrNOmnWsFkr6nFHwO': 71.42857142857143},\n",
              "    'userCount': 5},\n",
              "   'Return_statements': {'feature': 'Return',\n",
              "    'featureType': 'statements',\n",
              "    'path': '-LEgr4SIfoy5fMPgB03F',\n",
              "    'percentage': 100.0,\n",
              "    'problem': '-LErQu5eewtUxJVx38hz',\n",
              "    'userCount': 6}}}}"
            ]
          },
          "metadata": {
            "tags": []
          },
          "execution_count": 50
        }
      ]
    },
    {
      "metadata": {
        "id": "xNZazdNt_NjN",
        "colab_type": "text"
      },
      "cell_type": "markdown",
      "source": [
        "# Refactored Functions to suit specs\n",
        "\n",
        "*the last 3 functions make use of data existing in notebook*"
      ]
    },
    {
      "metadata": {
        "id": "Ygq40f5aAo2b",
        "colab_type": "text"
      },
      "cell_type": "markdown",
      "source": [
        "**1. analyzeSolution(problemKey, userKey)**\n",
        "  \n",
        "    - download latest solution code based on the problemKey and userKey specified\n",
        "    - format into {qns1: {user1: sol1, user2: sol2}, qns2: {user3: sol3}, ...}\n"
      ]
    },
    {
      "metadata": {
        "id": "RF4pv1vQQ5C-",
        "colab_type": "code",
        "colab": {
          "base_uri": "https://localhost:8080/",
          "height": 55
        },
        "outputId": "1b40a44f-dee7-4598-b04c-bd9384abfb0e"
      },
      "cell_type": "code",
      "source": [
        "def analyzeSolution(probKey, userKey):\n",
        "  \n",
        "  ## downloading latest solution code --> still cannot do without the token\n",
        "  # assume is solution only for path now\n",
        "  \n",
        "  \"\"\"\n",
        "  filename = \"problemSolutions.json\"\n",
        "  url = \"https://us-central1-achievements-dev.cloudfunctions.net/api?token=\"+token+\"&data=\"+filename[:-5]\n",
        "  response = requests.get(url, stream=True)\n",
        "  allProbSol = {}\n",
        "  with open(filename, 'wb') as handle:\n",
        "    for block in response.iter_content(1024*128):  # Load 128KB at a time and provide feedback. \n",
        "      handle.write(block)\n",
        "\n",
        "  with open(filename) as temp:\n",
        "    allProbSol = json.load(temp)\n",
        "  \"\"\"\n",
        "  \n",
        "  ## to prevent too much downloading\n",
        "  allProbSol = problemSolutions_data\n",
        "  \n",
        "  ## finding for particular solution using probKey and userKey\n",
        "  particular = {}\n",
        "  for problem in allProbSol: \n",
        "    for user in allProbSol[problem]:\n",
        "      if problem == probKey and user == userKey:\n",
        "        particular[problem] = {}\n",
        "        particular[problem][user] = allProbSol[problem][user]\n",
        "        \n",
        "  ## formatting into dict needed using an earlier defined method\n",
        "  result = getPathSol(particular)\n",
        "  return result\n",
        "\n",
        "\n",
        "## for testing:\n",
        "analyzeSolution('-LFGoFBJ7Ot4oC_jqfqD', 'TOT2Pe5KKIe8QufgPxM2S22VqHv1')"
      ],
      "execution_count": 51,
      "outputs": [
        {
          "output_type": "execute_result",
          "data": {
            "text/plain": [
              "{'-LFGoFBJ7Ot4oC_jqfqD': {'TOT2Pe5KKIe8QufgPxM2S22VqHv1': '# def a function to return a and b combined with a space\\ndef combineWord(a, b):\\n    s = \" \"\\n    seq = [a,b]\\n    return s.join(seq)\\n'}}"
            ]
          },
          "metadata": {
            "tags": []
          },
          "execution_count": 51
        }
      ]
    },
    {
      "metadata": {
        "id": "DHC6NrqrBTZu",
        "colab_type": "text"
      },
      "cell_type": "markdown",
      "source": [
        "**2. analyzeSolutionsForPublicPaths()**\n",
        "\n",
        "    - download and find all paths that have the key isPublic --> those without are private\n",
        "    - format into {qns1: {user1: sol1, user2: sol2}, qns2: {user3: sol3}, ...}"
      ]
    },
    {
      "metadata": {
        "id": "wegFxydw8iV1",
        "colab_type": "code",
        "colab": {
          "base_uri": "https://localhost:8080/",
          "height": 35
        },
        "outputId": "1fce0543-14e5-41bc-a99d-53c945f905f6"
      },
      "cell_type": "code",
      "source": [
        "def analyzeSolutionsForPublicPaths():\n",
        "  ## downloading latest solution code --> still cannot do without the token\n",
        "  # assume is solution only for path now\n",
        "  filename = \"problemSolutions.json\"\n",
        "  url = \"https://us-central1-achievements-dev.cloudfunctions.net/api?token=\"+token+\"&data=\"+filename[:-5]\n",
        "  response = requests.get(url, stream=True)\n",
        "  allProbSol = {}\n",
        "  with open(filename, 'wb') as handle:\n",
        "    for block in response.iter_content(1024*128):  # Load 128KB at a time and provide feedback. \n",
        "      handle.write(block)\n",
        "\n",
        "  with open(filename) as temp:\n",
        "    allProbSol = json.load(temp)\n",
        "    \n",
        "  ## downloading data about ALL paths to know which is public\n",
        "  filename = \"paths.json\"\n",
        "  url = \"https://us-central1-achievements-dev.cloudfunctions.net/api?token=\"+token+\"&data=\"+filename[:-5]\n",
        "  response = requests.get(url, stream=True)\n",
        "  allPaths = {}\n",
        "  with open(filename, 'wb') as handle:\n",
        "    for block in response.iter_content(1024*128):  # Load 128KB at a time and provide feedback. \n",
        "      handle.write(block)\n",
        "\n",
        "  with open(filename) as temp:\n",
        "    allPaths = json.load(temp)\n",
        "    \n",
        "  ## finding all paths that are public\n",
        "  pubPaths = []\n",
        "  for path in allPaths:\n",
        "    if 'isPublic' in allPaths[path]:\n",
        "      pubPaths += [path]\n",
        "  \n",
        "  ## need to download ALL problems data to be able to match a problem to a path\n",
        "  filename = \"problems.json\"\n",
        "  url = \"https://us-central1-achievements-dev.cloudfunctions.net/api?token=\"+token+\"&data=\"+filename[:-5]\n",
        "  response = requests.get(url, stream=True)\n",
        "  allProbs = {}\n",
        "  with open(filename, 'wb') as handle:\n",
        "    for block in response.iter_content(1024*128):  # Load 128KB at a time and provide feedback. \n",
        "      handle.write(block)\n",
        "\n",
        "  with open(filename) as temp:\n",
        "    allProbs = json.load(temp)\n",
        "  \n",
        "  ## matching each public path with problems from it\n",
        "  qnsFromPublicPath = {}\n",
        "  for qns in allProbSol:\n",
        "    if getPathID(qns, allProbs) in pubPaths:\n",
        "      if qns not in qnsFromPublicPath.keys():\n",
        "        qnsFromPublicPath[qns] = allProbSol[qns]\n",
        "        \n",
        "  ## formatting into the dic wanted\n",
        "  result = getPathSol(qnsFromPublicPath)\n",
        "  return result\n",
        "\n",
        "##### CANT TEST BECAUSE THE ONLY PUBLIC PATH HAS NO JUPYTER INLINE QNS\n",
        "analyzeSolutionsForPublicPaths()"
      ],
      "execution_count": 56,
      "outputs": [
        {
          "output_type": "execute_result",
          "data": {
            "text/plain": [
              "{}"
            ]
          },
          "metadata": {
            "tags": []
          },
          "execution_count": 56
        }
      ]
    },
    {
      "metadata": {
        "id": "5ft_oSQFDmj4",
        "colab_type": "text"
      },
      "cell_type": "markdown",
      "source": [
        "**3. analyzeSolutions(solutions)**\n",
        "\n",
        "    - given solutions object, call Lambda function on solutions object\n",
        "    - update the firebase if necessary with the updated dictionary"
      ]
    },
    {
      "metadata": {
        "id": "TLQTxC-UDnkS",
        "colab_type": "code",
        "colab": {
          "base_uri": "https://localhost:8080/",
          "height": 37
        },
        "outputId": "0708913e-0f8a-4623-d169-35be49a63c36"
      },
      "cell_type": "code",
      "source": [
        "def analyzeSolutions(solutions):\n",
        "  ## call Lambda with the solutions object\n",
        "  url = \"https://9dq7wcv20e.execute-api.us-west-2.amazonaws.com/dev/yrtest2\"\n",
        "  theSolutions = solutions\n",
        "  resp = requests.post(url=url, json=theSolutions)\n",
        "  returned2 = json.loads(resp.text)\n",
        "  print(returned2)\n",
        "  ## update to firebase\n",
        "  probSkills = returned2[\"problemSkills\"]\n",
        "  userSkills = returned2[\"userSkills\"]\n",
        "  app.put('/', 'problemSkills', probSkills)\n",
        "  app.put('/', 'userSkills', userSkills)\n",
        "  \n",
        "  return \n"
      ],
      "execution_count": 9,
      "outputs": []
    },
    {
      "metadata": {
        "id": "YYnXxBk7ECOe",
        "colab_type": "code",
        "colab": {
          "base_uri": "https://localhost:8080/",
          "height": 55
        },
        "outputId": "8abd8a1c-2579-4686-8e66-16267f70aa79"
      },
      "cell_type": "code",
      "source": [
        "import requests\n",
        "import json \n",
        "analyzeSolutions({'-LFGoFBJ7Ot4oC_jqfqD': {'TOT2Pe5KKIe8QufgPxM2S22VqHv1': '# def a function to return a and b combined with a space\\ndef combineWord(a, b):\\n    s = \" \"\\n    seq = [a,b]\\n    return s.join(seq)\\n'}})"
      ],
      "execution_count": 8,
      "outputs": [
        {
          "output_type": "stream",
          "text": [
            "{'problemSkills': {'-LFGoFBJ7Ot4oC_jqfqD': {'statements': {'Return': {'TOT2Pe5KKIe8QufgPxM2S22VqHv1': True}}, 'functions': {'-join': {'TOT2Pe5KKIe8QufgPxM2S22VqHv1': True}}}}, 'userSkills': {'TOT2Pe5KKIe8QufgPxM2S22VqHv1': {'statements': {'Return': {'-LFGoFBJ7Ot4oC_jqfqD': True}}, 'functions': {'-join': {'-LFGoFBJ7Ot4oC_jqfqD': True}}}}}\n"
          ],
          "name": "stdout"
        }
      ]
    },
    {
      "metadata": {
        "id": "RfHJXC9jEYuA",
        "colab_type": "text"
      },
      "cell_type": "markdown",
      "source": [
        "**4. updateFeatureProblemPercentiles()**\n",
        "\n",
        "    - download problemSkills node from firebase\n",
        "    - calculate new FPP based on the newest data from firebase\n",
        "    - update firebase if necessary"
      ]
    },
    {
      "metadata": {
        "id": "zwkGfzCtGAIY",
        "colab_type": "text"
      },
      "cell_type": "markdown",
      "source": [
        "equivalent AWS Lambda function: https://3m8uotrai2.execute-api.us-west-2.amazonaws.com/dev/calculateFPP"
      ]
    },
    {
      "metadata": {
        "id": "IqiGgxj0k2bC",
        "colab_type": "code",
        "colab": {
          "base_uri": "https://localhost:8080/",
          "height": 37
        },
        "outputId": "25b1e985-95ed-4d76-ceee-95d0bf1c90a5"
      },
      "cell_type": "code",
      "source": [
        "##### TEST DATA #####\n",
        "stu_sol = {'-LEgrNOmnWsFkr6nFHwO': {'0uB55jXtOnQUtFffPYK1aGLiZO33': '# return the values of a dictionary d as a list\\ndef listValues(d):\\n    l = []\\n    for v in d.values():\\n        l.append(v)\\n    return l\\n\\n', '3MBpk3DgmXTJeKqVTEq3vi4bpML2': '# return the values of a dictionary d as a list\\ndef listValues(d):\\n    return list(d.values())\\n\\n', '9D72RQCGQadyNE83vqvTNukk7Fz2': '# return the values of a dictionary d as a list\\n# def listValues(d)\\ndef listValues(d):\\n  return list(d.values())\\n  \\n\\n', 'OVkIA2ZkVbVCtzU9x1dHEVnvK8x1': '# return the values of a dictionary d as a list\\n# def listValues(d)\\ndef listValues(d):\\n    mylist = list(d.values())\\n    #print(mylist)\\n    return mylist\\n', 'TOT2Pe5KKIe8QufgPxM2S22VqHv1': '# return the values of a dictionary d as a list\\n# def listValues(d)\\ndef listValues(d):\\n    return list(d.values())\\n', 'eVJVC9kde3QSiXAP989kivD9SZn2': '# return the values of a dictionary d as a list\\ndef listValues(d):\\n    result = []\\n    for key in d: \\n        result.append(d[key])    \\n    return result\\n    \\n\\n', 'ms3bbFtcuXN9ha7t8Ef2b3YBdVT2': '# return the values of a dictionary d as a list\\n# def listValues(d)\\ndef listValues(d):\\n  list(d)\\n'}, '-LErQu5eewtUxJVx38hz': {'OVkIA2ZkVbVCtzU9x1dHEVnvK8x1': '# define a function which returns true if word is found in string\\n# def findWord(word, string)\\ndef findWord(word, string):\\n    if string.find(word) >= 0:\\n       # print(string.find(word))\\n        return True\\n    #print(string.find(word))\\n    return False\\n', 'TOT2Pe5KKIe8QufgPxM2S22VqHv1': '# define a function which returns true if word is found in string\\n# def findWord(word, string)\\ndef findWord(word, string):\\n    return word in string\\n', 'eVJVC9kde3QSiXAP989kivD9SZn2': '# define a function which returns true if word is found in string\\ndef findWord(word, string):\\n    l = list((\"apple\", \"banana\", \"cherry\"))\\n    if word in string:\\n        return True\\n    return False\\n'}, '-LErUlHo9-D88pPKcl3G': {'OVkIA2ZkVbVCtzU9x1dHEVnvK8x1': '# def a function to change the element at pos\\n# to newEle in the tuple and returns the updated tuple\\n# pos = 1 will refer to index = 0 in a tuple\\n# def updateTup(pos, newEle, tup)\\ndef updateTup(pos, newEle, tup):\\n    mylist = list(tup)\\n    mylist[pos-1] = newEle\\n    tup = tuple(mylist)\\n    #print(tup)\\n    return tup\\n', 'TOT2Pe5KKIe8QufgPxM2S22VqHv1': '# def a function to change the element at pos\\n# to newEle in the tuple and returns the updated tuple\\n# pos = 1 will refer to index = 0 in a tuple\\n# def updateTup(pos, newEle, tup)\\ndef updateTup(pos,newEle, tup):\\n    new_list = list(tup)\\n    new_list[pos-1] = newEle\\n    tup = tuple(new_list)\\n    return tup\\n'}, '-LFGnH4PCK-nJ_ehFSLm': {'OVkIA2ZkVbVCtzU9x1dHEVnvK8x1': '###Replace: Create a function to replace a target string in a template with a different string. '}, '-LFGoFBJ7Ot4oC_jqfqD': {'0uB55jXtOnQUtFffPYK1aGLiZO33': '# def a function to return a and b combined with a space\\ndef combineWord(a, b):\\n    return a + \" \" + b\\n', 'OVkIA2ZkVbVCtzU9x1dHEVnvK8x1': \"# def a function to return a and b combined with a space\\n# def combineWord(a, b)\\ndef combineWord(a, b):\\n    mystr = a +' '+ b\\n    return mystr\\n\", 'TOT2Pe5KKIe8QufgPxM2S22VqHv1': '# def a function to return a and b combined with a space\\ndef combineWord(a, b):\\n    s = \" \"\\n    seq = [a,b]\\n    return s.join(seq)\\n'}}\n",
        "small_sol = {'-LFGoFBJ7Ot4oC_jqfqD': {'TOT2Pe5KKIe8QufgPxM2S22VqHv1': '# def a function to return a and b combined with a space\\ndef combineWord(a, b):\\n    s = \" \"\\n    seq = [a,b]\\n    return s.join(seq)\\n'}}\n",
        "mas = {'problemSkills': {'-LEgrNOmnWsFkr6nFHwO': {'statements': {'For': {'0uB55jXtOnQUtFffPYK1aGLiZO33': True, 'eVJVC9kde3QSiXAP989kivD9SZn2': True}, 'Return': {'0uB55jXtOnQUtFffPYK1aGLiZO33': True, '3MBpk3DgmXTJeKqVTEq3vi4bpML2': True, '9D72RQCGQadyNE83vqvTNukk7Fz2': True, 'OVkIA2ZkVbVCtzU9x1dHEVnvK8x1': True, 'TOT2Pe5KKIe8QufgPxM2S22VqHv1': True, 'eVJVC9kde3QSiXAP989kivD9SZn2': True}}, 'functions': {'-values': {'0uB55jXtOnQUtFffPYK1aGLiZO33': True, '3MBpk3DgmXTJeKqVTEq3vi4bpML2': True, '9D72RQCGQadyNE83vqvTNukk7Fz2': True, 'OVkIA2ZkVbVCtzU9x1dHEVnvK8x1': True, 'TOT2Pe5KKIe8QufgPxM2S22VqHv1': True}, '-append': {'0uB55jXtOnQUtFffPYK1aGLiZO33': True, 'eVJVC9kde3QSiXAP989kivD9SZn2': True}, 'list': {'3MBpk3DgmXTJeKqVTEq3vi4bpML2': True, '9D72RQCGQadyNE83vqvTNukk7Fz2': True, 'OVkIA2ZkVbVCtzU9x1dHEVnvK8x1': True, 'TOT2Pe5KKIe8QufgPxM2S22VqHv1': True, 'ms3bbFtcuXN9ha7t8Ef2b3YBdVT2': True}}}, '-LErQu5eewtUxJVx38hz': {'statements': {'If': {'OVkIA2ZkVbVCtzU9x1dHEVnvK8x1': True, 'eVJVC9kde3QSiXAP989kivD9SZn2': True}, 'Return': {'OVkIA2ZkVbVCtzU9x1dHEVnvK8x1': True, 'TOT2Pe5KKIe8QufgPxM2S22VqHv1': True, 'eVJVC9kde3QSiXAP989kivD9SZn2': True}}, 'functions': {'-find': {'OVkIA2ZkVbVCtzU9x1dHEVnvK8x1': True}, 'list': {'eVJVC9kde3QSiXAP989kivD9SZn2': True}}}, '-LErUlHo9-D88pPKcl3G': {'statements': {'Return': {'OVkIA2ZkVbVCtzU9x1dHEVnvK8x1': True, 'TOT2Pe5KKIe8QufgPxM2S22VqHv1': True}}, 'functions': {'list': {'OVkIA2ZkVbVCtzU9x1dHEVnvK8x1': True, 'TOT2Pe5KKIe8QufgPxM2S22VqHv1': True}, 'tuple': {'OVkIA2ZkVbVCtzU9x1dHEVnvK8x1': True, 'TOT2Pe5KKIe8QufgPxM2S22VqHv1': True}}, 'expressions': {'-': {'OVkIA2ZkVbVCtzU9x1dHEVnvK8x1': True, 'TOT2Pe5KKIe8QufgPxM2S22VqHv1': True}}}, '-LFGoFBJ7Ot4oC_jqfqD': {'statements': {'Return': {'0uB55jXtOnQUtFffPYK1aGLiZO33': True, 'OVkIA2ZkVbVCtzU9x1dHEVnvK8x1': True, 'TOT2Pe5KKIe8QufgPxM2S22VqHv1': True}}, 'expressions': {'+': {'0uB55jXtOnQUtFffPYK1aGLiZO33': True, 'OVkIA2ZkVbVCtzU9x1dHEVnvK8x1': True}}, 'functions': {'-join': {'TOT2Pe5KKIe8QufgPxM2S22VqHv1': True}}}}, 'userSkills': {'0uB55jXtOnQUtFffPYK1aGLiZO33': {'statements': {'For': {'-LEgrNOmnWsFkr6nFHwO': True}, 'Return': {'-LEgrNOmnWsFkr6nFHwO': True, '-LFGoFBJ7Ot4oC_jqfqD': True}}, 'functions': {'-values': {'-LEgrNOmnWsFkr6nFHwO': True}, '-append': {'-LEgrNOmnWsFkr6nFHwO': True}}, 'expressions': {'+': {'-LFGoFBJ7Ot4oC_jqfqD': True}}}, '3MBpk3DgmXTJeKqVTEq3vi4bpML2': {'statements': {'Return': {'-LEgrNOmnWsFkr6nFHwO': True}}, 'functions': {'list': {'-LEgrNOmnWsFkr6nFHwO': True}, '-values': {'-LEgrNOmnWsFkr6nFHwO': True}}}, '9D72RQCGQadyNE83vqvTNukk7Fz2': {'statements': {'Return': {'-LEgrNOmnWsFkr6nFHwO': True}}, 'functions': {'list': {'-LEgrNOmnWsFkr6nFHwO': True}, '-values': {'-LEgrNOmnWsFkr6nFHwO': True}}}, 'OVkIA2ZkVbVCtzU9x1dHEVnvK8x1': {'statements': {'Return': {'-LEgrNOmnWsFkr6nFHwO': True, '-LErQu5eewtUxJVx38hz': True, '-LErUlHo9-D88pPKcl3G': True, '-LFGoFBJ7Ot4oC_jqfqD': True}, 'If': {'-LErQu5eewtUxJVx38hz': True}}, 'functions': {'list': {'-LEgrNOmnWsFkr6nFHwO': True, '-LErUlHo9-D88pPKcl3G': True}, '-values': {'-LEgrNOmnWsFkr6nFHwO': True}, '-find': {'-LErQu5eewtUxJVx38hz': True}, 'tuple': {'-LErUlHo9-D88pPKcl3G': True}}, 'expressions': {'-': {'-LErUlHo9-D88pPKcl3G': True}, '+': {'-LFGoFBJ7Ot4oC_jqfqD': True}}}, 'TOT2Pe5KKIe8QufgPxM2S22VqHv1': {'statements': {'Return': {'-LEgrNOmnWsFkr6nFHwO': True, '-LErQu5eewtUxJVx38hz': True, '-LErUlHo9-D88pPKcl3G': True, '-LFGoFBJ7Ot4oC_jqfqD': True}}, 'functions': {'list': {'-LEgrNOmnWsFkr6nFHwO': True, '-LErUlHo9-D88pPKcl3G': True}, '-values': {'-LEgrNOmnWsFkr6nFHwO': True}, 'tuple': {'-LErUlHo9-D88pPKcl3G': True}, '-join': {'-LFGoFBJ7Ot4oC_jqfqD': True}}, 'expressions': {'-': {'-LErUlHo9-D88pPKcl3G': True}}}, 'eVJVC9kde3QSiXAP989kivD9SZn2': {'statements': {'For': {'-LEgrNOmnWsFkr6nFHwO': True}, 'Return': {'-LEgrNOmnWsFkr6nFHwO': True, '-LErQu5eewtUxJVx38hz': True}, 'If': {'-LErQu5eewtUxJVx38hz': True}}, 'functions': {'-append': {'-LEgrNOmnWsFkr6nFHwO': True}, 'list': {'-LErQu5eewtUxJVx38hz': True}}}, 'ms3bbFtcuXN9ha7t8Ef2b3YBdVT2': {'functions': {'list': {'-LEgrNOmnWsFkr6nFHwO': True}}}}}\n",
        "master = {'problemSkills': {'-LFGoFBJ7Ot4oC_jqfqD': {'statements': {'Return': {'TOT2Pe5KKIe8QufgPxM2S22VqHv1': True}}, 'functions': {'-join': {'TOT2Pe5KKIe8QufgPxM2S22VqHv1': True}}}}, 'userSkills': {'TOT2Pe5KKIe8QufgPxM2S22VqHv1': {'statements': {'Return': {'-LFGoFBJ7Ot4oC_jqfqD': True}}, 'functions': {'-join': {'-LFGoFBJ7Ot4oC_jqfqD': True}}}}}"
      ],
      "execution_count": 10,
      "outputs": []
    },
    {
      "metadata": {
        "id": "oM7f5d15kWBI",
        "colab_type": "code",
        "colab": {
          "base_uri": "https://localhost:8080/",
          "height": 55
        },
        "outputId": "501a34b1-df7f-4a18-a175-e5d3266c3164"
      },
      "cell_type": "code",
      "source": [
        "### PROOF THAT LAMBDA FUNCTION WORKS ###\n",
        "import json\n",
        "import requests\n",
        "url = \"https://3m8uotrai2.execute-api.us-west-2.amazonaws.com/dev/calculateFPP\"\n",
        "theSolutions = {\"master_dic\": mas, \"student_solutions\": stu_sol}\n",
        "resp = requests.post(url=url, json=theSolutions)\n",
        "returned = json.loads(resp.text)\n",
        "print(returned)"
      ],
      "execution_count": 15,
      "outputs": [
        {
          "output_type": "stream",
          "text": [
            "{'statements': {'For': {'-LEgrNOmnWsFkr6nFHwO': 28.57142857142857}, 'Return': {'-LEgrNOmnWsFkr6nFHwO': 85.71428571428571, '-LErQu5eewtUxJVx38hz': 100.0, '-LErUlHo9-D88pPKcl3G': 100.0, '-LFGoFBJ7Ot4oC_jqfqD': 100.0}, 'If': {'-LErQu5eewtUxJVx38hz': 66.66666666666666}}, 'functions': {'-values': {'-LEgrNOmnWsFkr6nFHwO': 71.42857142857143}, '-append': {'-LEgrNOmnWsFkr6nFHwO': 28.57142857142857}, 'list': {'-LEgrNOmnWsFkr6nFHwO': 71.42857142857143, '-LErQu5eewtUxJVx38hz': 33.33333333333333, '-LErUlHo9-D88pPKcl3G': 100.0}, '-find': {'-LErQu5eewtUxJVx38hz': 33.33333333333333}, 'tuple': {'-LErUlHo9-D88pPKcl3G': 100.0}, '-join': {'-LFGoFBJ7Ot4oC_jqfqD': 33.33333333333333}}, 'expressions': {'-': {'-LErUlHo9-D88pPKcl3G': 100.0}, '+': {'-LFGoFBJ7Ot4oC_jqfqD': 66.66666666666666}}}\n"
          ],
          "name": "stdout"
        }
      ]
    },
    {
      "metadata": {
        "id": "o0Fl5tMLEY_s",
        "colab_type": "code",
        "colab": {
          "base_uri": "https://localhost:8080/",
          "height": 35
        },
        "outputId": "40f58c95-8ed0-4286-dff3-8bd5a666a580"
      },
      "cell_type": "code",
      "source": [
        "def updateFeatureProblemPercentiles():\n",
        "  allProbSkills = problemskills_data\n",
        "  \n",
        "  ## put into the format as required by function\n",
        "  master_dict = {\"problemSkills\": allProbSkills, \"userSkills\": userskills_data}\n",
        "  \n",
        "  ## Calculating new FPP based on new allProbSkills\n",
        "  big_dict = doAllLongCode(master_dict)\n",
        "  temp_fpp = big_dict['fpp']\n",
        "  \n",
        "  ## reformatting obtained new FPP into correct format\n",
        "  fpp = formatOriginalFPP(temp_fpp)\n",
        "  \n",
        "  ## defining firebase project\n",
        "  yourFirebaseProjectId = 'achievements-dev'  \n",
        "  app = FirebaseApplication('https://'+ yourFirebaseProjectId +'.firebaseio.com/', None)\n",
        "  \n",
        "  ## updating firebase --> just overwrite LOL\n",
        "  app.put('/', \"featureProblemPercentiles\", fpp) \n",
        "  \n",
        "  return\n",
        "\n",
        "updateFeatureProblemPercentiles()"
      ],
      "execution_count": 59,
      "outputs": [
        {
          "output_type": "stream",
          "text": [
            "{'-LEgrNOmnWsFkr6nFHwO': 7, '-LErQu5eewtUxJVx38hz': 3, '-LErUlHo9-D88pPKcl3G': 2, '-LFGnH4PCK-nJ_ehFSLm': 1, '-LFGoFBJ7Ot4oC_jqfqD': 3}\n"
          ],
          "name": "stdout"
        }
      ]
    },
    {
      "metadata": {
        "id": "qV6zEFi_FTif",
        "colab_type": "text"
      },
      "cell_type": "markdown",
      "source": [
        "**5. updateFeatureRanking()**\n",
        "\n",
        "    - download problemSkills node from firebase\n",
        "    - calculate new featureRanking based on newest data from firebase\n",
        "    - update firebase if necessary"
      ]
    },
    {
      "metadata": {
        "id": "Z3CJoHlHnUZ7",
        "colab_type": "text"
      },
      "cell_type": "markdown",
      "source": [
        "equivalent lambda function: https://l18zl71yol.execute-api.us-west-2.amazonaws.com/dev/calculateFeatRank"
      ]
    },
    {
      "metadata": {
        "id": "JmGtdOcQnaf3",
        "colab_type": "code",
        "colab": {
          "base_uri": "https://localhost:8080/",
          "height": 37
        },
        "outputId": "c42c7470-8bba-47af-8d90-94f0f0d68284"
      },
      "cell_type": "code",
      "source": [
        "########### TEST DATA ##############\n",
        "mas = {'problemSkills': {'-LEgrNOmnWsFkr6nFHwO': {'statements': {'For': {'0uB55jXtOnQUtFffPYK1aGLiZO33': True, 'eVJVC9kde3QSiXAP989kivD9SZn2': True}, 'Return': {'0uB55jXtOnQUtFffPYK1aGLiZO33': True, '3MBpk3DgmXTJeKqVTEq3vi4bpML2': True, '9D72RQCGQadyNE83vqvTNukk7Fz2': True, 'OVkIA2ZkVbVCtzU9x1dHEVnvK8x1': True, 'TOT2Pe5KKIe8QufgPxM2S22VqHv1': True, 'eVJVC9kde3QSiXAP989kivD9SZn2': True}}, 'functions': {'-values': {'0uB55jXtOnQUtFffPYK1aGLiZO33': True, '3MBpk3DgmXTJeKqVTEq3vi4bpML2': True, '9D72RQCGQadyNE83vqvTNukk7Fz2': True, 'OVkIA2ZkVbVCtzU9x1dHEVnvK8x1': True, 'TOT2Pe5KKIe8QufgPxM2S22VqHv1': True}, '-append': {'0uB55jXtOnQUtFffPYK1aGLiZO33': True, 'eVJVC9kde3QSiXAP989kivD9SZn2': True}, 'list': {'3MBpk3DgmXTJeKqVTEq3vi4bpML2': True, '9D72RQCGQadyNE83vqvTNukk7Fz2': True, 'OVkIA2ZkVbVCtzU9x1dHEVnvK8x1': True, 'TOT2Pe5KKIe8QufgPxM2S22VqHv1': True, 'ms3bbFtcuXN9ha7t8Ef2b3YBdVT2': True}}}, '-LErQu5eewtUxJVx38hz': {'statements': {'If': {'OVkIA2ZkVbVCtzU9x1dHEVnvK8x1': True, 'eVJVC9kde3QSiXAP989kivD9SZn2': True}, 'Return': {'OVkIA2ZkVbVCtzU9x1dHEVnvK8x1': True, 'TOT2Pe5KKIe8QufgPxM2S22VqHv1': True, 'eVJVC9kde3QSiXAP989kivD9SZn2': True}}, 'functions': {'-find': {'OVkIA2ZkVbVCtzU9x1dHEVnvK8x1': True}, 'list': {'eVJVC9kde3QSiXAP989kivD9SZn2': True}}}, '-LErUlHo9-D88pPKcl3G': {'statements': {'Return': {'OVkIA2ZkVbVCtzU9x1dHEVnvK8x1': True, 'TOT2Pe5KKIe8QufgPxM2S22VqHv1': True}}, 'functions': {'list': {'OVkIA2ZkVbVCtzU9x1dHEVnvK8x1': True, 'TOT2Pe5KKIe8QufgPxM2S22VqHv1': True}, 'tuple': {'OVkIA2ZkVbVCtzU9x1dHEVnvK8x1': True, 'TOT2Pe5KKIe8QufgPxM2S22VqHv1': True}}, 'expressions': {'-': {'OVkIA2ZkVbVCtzU9x1dHEVnvK8x1': True, 'TOT2Pe5KKIe8QufgPxM2S22VqHv1': True}}}, '-LFGoFBJ7Ot4oC_jqfqD': {'statements': {'Return': {'0uB55jXtOnQUtFffPYK1aGLiZO33': True, 'OVkIA2ZkVbVCtzU9x1dHEVnvK8x1': True, 'TOT2Pe5KKIe8QufgPxM2S22VqHv1': True}}, 'expressions': {'+': {'0uB55jXtOnQUtFffPYK1aGLiZO33': True, 'OVkIA2ZkVbVCtzU9x1dHEVnvK8x1': True}}, 'functions': {'-join': {'TOT2Pe5KKIe8QufgPxM2S22VqHv1': True}}}}, 'userSkills': {'0uB55jXtOnQUtFffPYK1aGLiZO33': {'statements': {'For': {'-LEgrNOmnWsFkr6nFHwO': True}, 'Return': {'-LEgrNOmnWsFkr6nFHwO': True, '-LFGoFBJ7Ot4oC_jqfqD': True}}, 'functions': {'-values': {'-LEgrNOmnWsFkr6nFHwO': True}, '-append': {'-LEgrNOmnWsFkr6nFHwO': True}}, 'expressions': {'+': {'-LFGoFBJ7Ot4oC_jqfqD': True}}}, '3MBpk3DgmXTJeKqVTEq3vi4bpML2': {'statements': {'Return': {'-LEgrNOmnWsFkr6nFHwO': True}}, 'functions': {'list': {'-LEgrNOmnWsFkr6nFHwO': True}, '-values': {'-LEgrNOmnWsFkr6nFHwO': True}}}, '9D72RQCGQadyNE83vqvTNukk7Fz2': {'statements': {'Return': {'-LEgrNOmnWsFkr6nFHwO': True}}, 'functions': {'list': {'-LEgrNOmnWsFkr6nFHwO': True}, '-values': {'-LEgrNOmnWsFkr6nFHwO': True}}}, 'OVkIA2ZkVbVCtzU9x1dHEVnvK8x1': {'statements': {'Return': {'-LEgrNOmnWsFkr6nFHwO': True, '-LErQu5eewtUxJVx38hz': True, '-LErUlHo9-D88pPKcl3G': True, '-LFGoFBJ7Ot4oC_jqfqD': True}, 'If': {'-LErQu5eewtUxJVx38hz': True}}, 'functions': {'list': {'-LEgrNOmnWsFkr6nFHwO': True, '-LErUlHo9-D88pPKcl3G': True}, '-values': {'-LEgrNOmnWsFkr6nFHwO': True}, '-find': {'-LErQu5eewtUxJVx38hz': True}, 'tuple': {'-LErUlHo9-D88pPKcl3G': True}}, 'expressions': {'-': {'-LErUlHo9-D88pPKcl3G': True}, '+': {'-LFGoFBJ7Ot4oC_jqfqD': True}}}, 'TOT2Pe5KKIe8QufgPxM2S22VqHv1': {'statements': {'Return': {'-LEgrNOmnWsFkr6nFHwO': True, '-LErQu5eewtUxJVx38hz': True, '-LErUlHo9-D88pPKcl3G': True, '-LFGoFBJ7Ot4oC_jqfqD': True}}, 'functions': {'list': {'-LEgrNOmnWsFkr6nFHwO': True, '-LErUlHo9-D88pPKcl3G': True}, '-values': {'-LEgrNOmnWsFkr6nFHwO': True}, 'tuple': {'-LErUlHo9-D88pPKcl3G': True}, '-join': {'-LFGoFBJ7Ot4oC_jqfqD': True}}, 'expressions': {'-': {'-LErUlHo9-D88pPKcl3G': True}}}, 'eVJVC9kde3QSiXAP989kivD9SZn2': {'statements': {'For': {'-LEgrNOmnWsFkr6nFHwO': True}, 'Return': {'-LEgrNOmnWsFkr6nFHwO': True, '-LErQu5eewtUxJVx38hz': True}, 'If': {'-LErQu5eewtUxJVx38hz': True}}, 'functions': {'-append': {'-LEgrNOmnWsFkr6nFHwO': True}, 'list': {'-LErQu5eewtUxJVx38hz': True}}}, 'ms3bbFtcuXN9ha7t8Ef2b3YBdVT2': {'functions': {'list': {'-LEgrNOmnWsFkr6nFHwO': True}}}}}\n",
        "master = {'problemSkills': {'-LFGoFBJ7Ot4oC_jqfqD': {'statements': {'Return': {'TOT2Pe5KKIe8QufgPxM2S22VqHv1': True}}, 'functions': {'-join': {'TOT2Pe5KKIe8QufgPxM2S22VqHv1': True}}}}, 'userSkills': {'TOT2Pe5KKIe8QufgPxM2S22VqHv1': {'statements': {'Return': {'-LFGoFBJ7Ot4oC_jqfqD': True}}, 'functions': {'-join': {'-LFGoFBJ7Ot4oC_jqfqD': True}}}}}"
      ],
      "execution_count": 12,
      "outputs": []
    },
    {
      "metadata": {
        "id": "R9OYNrCVnXaP",
        "colab_type": "code",
        "colab": {
          "base_uri": "https://localhost:8080/",
          "height": 55
        },
        "outputId": "93c00644-e6d6-4e2b-eef6-ef7bdae9e248"
      },
      "cell_type": "code",
      "source": [
        "########### PROOF THAT LAMBDA FUNCTION WORKS ##################\n",
        "import json\n",
        "import requests\n",
        "url = \"https://l18zl71yol.execute-api.us-west-2.amazonaws.com/dev/calculateFeatRank\"\n",
        "theSolutions = mas\n",
        "resp = requests.post(url=url, json=theSolutions)\n",
        "returned3 = json.loads(resp.text)\n",
        "print(returned3)"
      ],
      "execution_count": 14,
      "outputs": [
        {
          "output_type": "stream",
          "text": [
            "[{'featureType': 'statements', 'feature': 'Return', 'userCount': 6}, {'featureType': 'functions', 'feature': 'list', 'userCount': 6}, {'featureType': 'functions', 'feature': '-values', 'userCount': 5}, {'featureType': 'statements', 'feature': 'For', 'userCount': 2}, {'featureType': 'functions', 'feature': '-append', 'userCount': 2}, {'featureType': 'expressions', 'feature': '+', 'userCount': 2}, {'featureType': 'statements', 'feature': 'If', 'userCount': 2}, {'featureType': 'functions', 'feature': 'tuple', 'userCount': 2}, {'featureType': 'expressions', 'feature': '-', 'userCount': 2}, {'featureType': 'functions', 'feature': '-find', 'userCount': 1}, {'featureType': 'functions', 'feature': '-join', 'userCount': 1}]\n"
          ],
          "name": "stdout"
        }
      ]
    },
    {
      "metadata": {
        "id": "AJtQSoXqFUlD",
        "colab_type": "code",
        "colab": {
          "base_uri": "https://localhost:8080/",
          "height": 37
        },
        "outputId": "47d7f1f9-01ca-4795-ce54-f3e63188b66f"
      },
      "cell_type": "code",
      "source": [
        "def updateFeatureRanking():\n",
        "  allProbSkills = problemskills_data\n",
        "  \n",
        "  ## Put in format as required by functions\n",
        "  master_dict = {'problemSkills': allProbSkills, \"userSkills\": userskills_data}\n",
        "  \n",
        "  ## Calculating new featRank based on new allProbSkills\n",
        "  big_dict = doAllLongCode(master_dict)\n",
        "  temp_featRank = big_dict['featRank']\n",
        "  \n",
        "  ## reformatting obtained new featRank into correct format\n",
        "  featRank = formatOriginalFeatRank(temp_featRank)\n",
        "  \n",
        "  ## defining firebase project\n",
        "  yourFirebaseProjectId = 'achievements-dev'  \n",
        "  app = FirebaseApplication('https://'+ yourFirebaseProjectId +'.firebaseio.com/', None)\n",
        "  \n",
        "  ## updating firebase --> just overwrite LOL\n",
        "  app.put('/', \"featureRanking\", featRank) \n",
        "  \n",
        "  return"
      ],
      "execution_count": 60,
      "outputs": []
    },
    {
      "metadata": {
        "id": "pSI9wxd_8hm-",
        "colab_type": "text"
      },
      "cell_type": "markdown",
      "source": [
        "**6. updateUserRecommendations(userKey)**\n",
        "\n",
        "    - download userSkills and featRank\n",
        "    - sort featRank by userCount\n",
        "    - calculate new userRecommendations for userKey specified\n",
        "    - download curr userRecommendations for userKey\n",
        "    - update userRecommendations if necessary\n"
      ]
    },
    {
      "metadata": {
        "id": "btlsiXZmvjWQ",
        "colab_type": "text"
      },
      "cell_type": "markdown",
      "source": [
        "equivalent lambda function: https://xds2s867p2.execute-api.us-west-2.amazonaws.com/dev/calculateUserReco"
      ]
    },
    {
      "metadata": {
        "id": "qzU80QOVvlyf",
        "colab_type": "code",
        "colab": {
          "base_uri": "https://localhost:8080/",
          "height": 37
        },
        "outputId": "764742d8-f114-4538-f322-262c93016f2a"
      },
      "cell_type": "code",
      "source": [
        "#### TEST DATA: ###########\n",
        "fpp_test = {'statements': {'For': {'-LEgrNOmnWsFkr6nFHwO': 28.57142857142857}, 'Return': {'-LEgrNOmnWsFkr6nFHwO': 85.71428571428571, '-LErQu5eewtUxJVx38hz': 100.0, '-LErUlHo9-D88pPKcl3G': 100.0, '-LFGoFBJ7Ot4oC_jqfqD': 100.0}, 'If': {'-LErQu5eewtUxJVx38hz': 66.66666666666666}}, 'functions': {'-values': {'-LEgrNOmnWsFkr6nFHwO': 71.42857142857143}, '-append': {'-LEgrNOmnWsFkr6nFHwO': 28.57142857142857}, 'list': {'-LEgrNOmnWsFkr6nFHwO': 71.42857142857143, '-LErQu5eewtUxJVx38hz': 33.33333333333333, '-LErUlHo9-D88pPKcl3G': 100.0}, '-find': {'-LErQu5eewtUxJVx38hz': 33.33333333333333}, 'tuple': {'-LErUlHo9-D88pPKcl3G': 100.0}, '-join': {'-LFGoFBJ7Ot4oC_jqfqD': 33.33333333333333}}, 'expressions': {'-': {'-LErUlHo9-D88pPKcl3G': 100.0}, '+': {'-LFGoFBJ7Ot4oC_jqfqD': 66.66666666666666}}}\n",
        "featRank_test = [{'featureType': 'statements', 'feature': 'Return', 'userCount': 6}, {'featureType': 'functions', 'feature': 'list', 'userCount': 6}, {'featureType': 'functions', 'feature': '-values', 'userCount': 5}, {'featureType': 'statements', 'feature': 'For', 'userCount': 2}, {'featureType': 'functions', 'feature': '-append', 'userCount': 2}, {'featureType': 'expressions', 'feature': '+', 'userCount': 2}, {'featureType': 'statements', 'feature': 'If', 'userCount': 2}, {'featureType': 'functions', 'feature': 'tuple', 'userCount': 2}, {'featureType': 'expressions', 'feature': '-', 'userCount': 2}, {'featureType': 'functions', 'feature': '-find', 'userCount': 1}, {'featureType': 'functions', 'feature': '-join', 'userCount': 1}]"
      ],
      "execution_count": 16,
      "outputs": []
    },
    {
      "metadata": {
        "id": "LFgdxfwhv5Cd",
        "colab_type": "code",
        "colab": {
          "base_uri": "https://localhost:8080/",
          "height": 55
        },
        "outputId": "2f05c75a-431b-4ffd-c4a7-1c2aaeb75c8f"
      },
      "cell_type": "code",
      "source": [
        "########### PROOF THAT LAMBDA FUNCTION WORKS ##################\n",
        "import json\n",
        "import requests\n",
        "url = \"https://xds2s867p2.execute-api.us-west-2.amazonaws.com/dev/calculateUserReco\"\n",
        "theSolutions = {\"master_dic\": mas, \"featureProblemPercentiles\": fpp_test, \"featureRanking\": featRank_test}\n",
        "resp = requests.post(url=url, json=theSolutions)\n",
        "returned4 = json.loads(resp.text)\n",
        "print(returned4)"
      ],
      "execution_count": 19,
      "outputs": [
        {
          "output_type": "stream",
          "text": [
            "{'ms3bbFtcuXN9ha7t8Ef2b3YBdVT2': {'lastUpdated': '', 'problems': [{'featureType': 'statements', 'feature': 'Return', 'userCount': 6, 'solvedFeatureProblems': {}, 'percentage': 100.0, 'problem': '-LErQu5eewtUxJVx38hz'}, {'featureType': 'functions', 'feature': '-values', 'userCount': 5, 'solvedFeatureProblems': {'-LEgrNOmnWsFkr6nFHwO': 71.42857142857143}, 'percentage': 0, 'problem': 'null'}]}, '0uB55jXtOnQUtFffPYK1aGLiZO33': {'lastUpdated': '', 'problems': [{'featureType': 'functions', 'feature': 'list', 'userCount': 6, 'solvedFeatureProblems': {}, 'percentage': 100.0, 'problem': '-LErUlHo9-D88pPKcl3G'}, {'featureType': 'statements', 'feature': 'If', 'userCount': 2, 'solvedFeatureProblems': {}, 'percentage': 66.66666666666666, 'problem': '-LErQu5eewtUxJVx38hz'}]}, 'eVJVC9kde3QSiXAP989kivD9SZn2': {'lastUpdated': '', 'problems': [{'featureType': 'functions', 'feature': '-values', 'userCount': 5, 'solvedFeatureProblems': {'-LEgrNOmnWsFkr6nFHwO': 71.42857142857143}, 'percentage': 0, 'problem': 'null'}, {'featureType': 'expressions', 'feature': '+', 'userCount': 2, 'solvedFeatureProblems': {}, 'percentage': 66.66666666666666, 'problem': '-LFGoFBJ7Ot4oC_jqfqD'}]}, '3MBpk3DgmXTJeKqVTEq3vi4bpML2': {'lastUpdated': '', 'problems': [{'featureType': 'statements', 'feature': 'For', 'userCount': 2, 'solvedFeatureProblems': {'-LEgrNOmnWsFkr6nFHwO': 28.57142857142857}, 'percentage': 0, 'problem': 'null'}, {'featureType': 'functions', 'feature': '-append', 'userCount': 2, 'solvedFeatureProblems': {'-LEgrNOmnWsFkr6nFHwO': 28.57142857142857}, 'percentage': 0, 'problem': 'null'}]}, '9D72RQCGQadyNE83vqvTNukk7Fz2': {'lastUpdated': '', 'problems': [{'featureType': 'statements', 'feature': 'For', 'userCount': 2, 'solvedFeatureProblems': {'-LEgrNOmnWsFkr6nFHwO': 28.57142857142857}, 'percentage': 0, 'problem': 'null'}, {'featureType': 'functions', 'feature': '-append', 'userCount': 2, 'solvedFeatureProblems': {'-LEgrNOmnWsFkr6nFHwO': 28.57142857142857}, 'percentage': 0, 'problem': 'null'}]}, 'OVkIA2ZkVbVCtzU9x1dHEVnvK8x1': {'lastUpdated': '', 'problems': [{'featureType': 'statements', 'feature': 'For', 'userCount': 2, 'solvedFeatureProblems': {'-LEgrNOmnWsFkr6nFHwO': 28.57142857142857}, 'percentage': 0, 'problem': 'null'}, {'featureType': 'functions', 'feature': '-append', 'userCount': 2, 'solvedFeatureProblems': {'-LEgrNOmnWsFkr6nFHwO': 28.57142857142857}, 'percentage': 0, 'problem': 'null'}]}, 'TOT2Pe5KKIe8QufgPxM2S22VqHv1': {'lastUpdated': '', 'problems': [{'featureType': 'statements', 'feature': 'For', 'userCount': 2, 'solvedFeatureProblems': {'-LEgrNOmnWsFkr6nFHwO': 28.57142857142857}, 'percentage': 0, 'problem': 'null'}, {'featureType': 'functions', 'feature': '-append', 'userCount': 2, 'solvedFeatureProblems': {'-LEgrNOmnWsFkr6nFHwO': 28.57142857142857}, 'percentage': 0, 'problem': 'null'}]}}\n"
          ],
          "name": "stdout"
        }
      ]
    },
    {
      "metadata": {
        "id": "kx6GqR8JIyuK",
        "colab_type": "code",
        "colab": {
          "base_uri": "https://localhost:8080/",
          "height": 35
        },
        "outputId": "0bebc1a3-4aba-436c-8f06-9e6790faffc7"
      },
      "cell_type": "code",
      "source": [
        "f = {'a': {'userCount': 9}, 'v': {'userCount': 4, 'a':5}, 'r': {'userCount': 1}}\n",
        "\n",
        "print(sorted(f.values(), key= lambda x: x['userCount'], reverse=True))"
      ],
      "execution_count": 98,
      "outputs": [
        {
          "output_type": "stream",
          "text": [
            "[{'userCount': 9}, {'userCount': 4, 'a': 5}, {'userCount': 1}]\n"
          ],
          "name": "stdout"
        }
      ]
    },
    {
      "metadata": {
        "id": "o3GdZHAGFWqT",
        "colab_type": "code",
        "colab": {
          "base_uri": "https://localhost:8080/",
          "height": 37
        },
        "outputId": "458b9d08-555f-48df-a348-a814a026b18c"
      },
      "cell_type": "code",
      "source": [
        "def updateUserRecommendations(userKey):\n",
        "  userSkills = userskills_data\n",
        "  probSkills = problemskills_data\n",
        "  featRank = featRank_data\n",
        "  \n",
        "  ## sorting featRank by userCount\n",
        "  sortFeatRank = sorted(featRank.values(), key=lambda x: x['userCount'],reverse=True)\n",
        "  \n",
        "  ## Putting into the format needed by functions\n",
        "  master_dict = {'userSkills': userSkills, 'probSkills': probSkills}\n",
        "  \n",
        "  ## calculate new userRecommendations\n",
        "  big_dict = doAllLongCode(master_dict)\n",
        "  updated_reco = big_dict['userReco']\n",
        "  \n",
        "  ## download curr userRecommendations for userKey to compare but overriding is faster\n",
        "  ############################# NO SUPPORT TO DOWNLOAD USERRECO FOR ANYONE AT ALL #################################\n",
        "  \n",
        "  ## update to firebase\n",
        "  app.put('/', 'userRecommendations', updated_reco)\n",
        "  \n",
        "  return"
      ],
      "execution_count": 61,
      "outputs": []
    },
    {
      "metadata": {
        "id": "808aRpxMNgcJ",
        "colab_type": "code",
        "colab": {}
      },
      "cell_type": "code",
      "source": [
        ""
      ],
      "execution_count": 0,
      "outputs": []
    }
  ]
}